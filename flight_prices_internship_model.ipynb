{
 "cells": [
  {
   "cell_type": "markdown",
   "id": "d3b35401",
   "metadata": {},
   "source": [
    "**Our dataset has all flights departing from `New Delhi` airport and arriving at `Mumbai`. So we will try out our model's working for New Delhi to Mumbai flight prediction.**"
   ]
  },
  {
   "cell_type": "code",
   "execution_count": 1,
   "id": "4ae52032",
   "metadata": {},
   "outputs": [],
   "source": [
    "import warnings\n",
    "warnings.filterwarnings('ignore')"
   ]
  },
  {
   "cell_type": "code",
   "execution_count": 2,
   "id": "a1482603",
   "metadata": {},
   "outputs": [],
   "source": [
    "import numpy as np\n",
    "import pandas as pd"
   ]
  },
  {
   "cell_type": "code",
   "execution_count": 3,
   "id": "011040eb",
   "metadata": {},
   "outputs": [],
   "source": [
    "import matplotlib.pyplot as plt\n",
    "import seaborn as sn"
   ]
  },
  {
   "cell_type": "code",
   "execution_count": 4,
   "id": "c187c3a1",
   "metadata": {},
   "outputs": [
    {
     "data": {
      "text/html": [
       "<div>\n",
       "<style scoped>\n",
       "    .dataframe tbody tr th:only-of-type {\n",
       "        vertical-align: middle;\n",
       "    }\n",
       "\n",
       "    .dataframe tbody tr th {\n",
       "        vertical-align: top;\n",
       "    }\n",
       "\n",
       "    .dataframe thead th {\n",
       "        text-align: right;\n",
       "    }\n",
       "</style>\n",
       "<table border=\"1\" class=\"dataframe\">\n",
       "  <thead>\n",
       "    <tr style=\"text-align: right;\">\n",
       "      <th></th>\n",
       "      <th>Carrier</th>\n",
       "      <th>Depart</th>\n",
       "      <th>Arrive</th>\n",
       "      <th>Travel Date</th>\n",
       "      <th>Duration</th>\n",
       "      <th>Dep-Time</th>\n",
       "      <th>Arrive-Time</th>\n",
       "      <th>No. of Stops</th>\n",
       "      <th>Fare</th>\n",
       "    </tr>\n",
       "  </thead>\n",
       "  <tbody>\n",
       "    <tr>\n",
       "      <th>0</th>\n",
       "      <td>Air Asia</td>\n",
       "      <td>New Delhi</td>\n",
       "      <td>Mumbai</td>\n",
       "      <td>Sun, 10 Oct</td>\n",
       "      <td>5h 55m</td>\n",
       "      <td>16:15</td>\n",
       "      <td>22:10</td>\n",
       "      <td>1 Stop</td>\n",
       "      <td>5,953</td>\n",
       "    </tr>\n",
       "    <tr>\n",
       "      <th>1</th>\n",
       "      <td>Air Asia</td>\n",
       "      <td>New Delhi</td>\n",
       "      <td>Mumbai</td>\n",
       "      <td>Sun, 10 Oct</td>\n",
       "      <td>6h 00m</td>\n",
       "      <td>05:20</td>\n",
       "      <td>11:20</td>\n",
       "      <td>1 Stop</td>\n",
       "      <td>5,953</td>\n",
       "    </tr>\n",
       "    <tr>\n",
       "      <th>2</th>\n",
       "      <td>Air Asia</td>\n",
       "      <td>New Delhi</td>\n",
       "      <td>Mumbai</td>\n",
       "      <td>Sun, 10 Oct</td>\n",
       "      <td>6h 35m</td>\n",
       "      <td>09:25</td>\n",
       "      <td>16:00</td>\n",
       "      <td>1 Stop</td>\n",
       "      <td>5,953</td>\n",
       "    </tr>\n",
       "    <tr>\n",
       "      <th>3</th>\n",
       "      <td>Air Asia</td>\n",
       "      <td>New Delhi</td>\n",
       "      <td>Mumbai</td>\n",
       "      <td>Sun, 10 Oct</td>\n",
       "      <td>11h 45m</td>\n",
       "      <td>18:35</td>\n",
       "      <td>06:20\\n+ 1 day</td>\n",
       "      <td>1 Stop</td>\n",
       "      <td>5,953</td>\n",
       "    </tr>\n",
       "    <tr>\n",
       "      <th>4</th>\n",
       "      <td>Air Asia</td>\n",
       "      <td>New Delhi</td>\n",
       "      <td>Mumbai</td>\n",
       "      <td>Sun, 10 Oct</td>\n",
       "      <td>14h 05m</td>\n",
       "      <td>16:15</td>\n",
       "      <td>06:20\\n+ 1 day</td>\n",
       "      <td>1 Stop</td>\n",
       "      <td>5,953</td>\n",
       "    </tr>\n",
       "    <tr>\n",
       "      <th>...</th>\n",
       "      <td>...</td>\n",
       "      <td>...</td>\n",
       "      <td>...</td>\n",
       "      <td>...</td>\n",
       "      <td>...</td>\n",
       "      <td>...</td>\n",
       "      <td>...</td>\n",
       "      <td>...</td>\n",
       "      <td>...</td>\n",
       "    </tr>\n",
       "    <tr>\n",
       "      <th>2727</th>\n",
       "      <td>Go First</td>\n",
       "      <td>New Delhi</td>\n",
       "      <td>Mumbai</td>\n",
       "      <td>Fri, 29 Oct</td>\n",
       "      <td>7h 30m</td>\n",
       "      <td>08:10</td>\n",
       "      <td>15:40</td>\n",
       "      <td>1 Stop</td>\n",
       "      <td>12,519</td>\n",
       "    </tr>\n",
       "    <tr>\n",
       "      <th>2728</th>\n",
       "      <td>Go First</td>\n",
       "      <td>New Delhi</td>\n",
       "      <td>Mumbai</td>\n",
       "      <td>Fri, 29 Oct</td>\n",
       "      <td>9h 20m</td>\n",
       "      <td>08:10</td>\n",
       "      <td>17:30</td>\n",
       "      <td>1 Stop</td>\n",
       "      <td>12,519</td>\n",
       "    </tr>\n",
       "    <tr>\n",
       "      <th>2729</th>\n",
       "      <td>IndiGo</td>\n",
       "      <td>New Delhi</td>\n",
       "      <td>Mumbai</td>\n",
       "      <td>Fri, 29 Oct</td>\n",
       "      <td>9h 10m</td>\n",
       "      <td>07:40</td>\n",
       "      <td>16:50</td>\n",
       "      <td>1 Stop</td>\n",
       "      <td>12,780</td>\n",
       "    </tr>\n",
       "    <tr>\n",
       "      <th>2730</th>\n",
       "      <td>Go First</td>\n",
       "      <td>New Delhi</td>\n",
       "      <td>Mumbai</td>\n",
       "      <td>Fri, 29 Oct</td>\n",
       "      <td>6h 45m</td>\n",
       "      <td>12:35</td>\n",
       "      <td>19:20</td>\n",
       "      <td>1 Stop</td>\n",
       "      <td>12,939</td>\n",
       "    </tr>\n",
       "    <tr>\n",
       "      <th>2731</th>\n",
       "      <td>Air India</td>\n",
       "      <td>New Delhi</td>\n",
       "      <td>Mumbai</td>\n",
       "      <td>Fri, 29 Oct</td>\n",
       "      <td>12h 45m</td>\n",
       "      <td>07:00</td>\n",
       "      <td>19:45</td>\n",
       "      <td>1 Stop</td>\n",
       "      <td>13,291</td>\n",
       "    </tr>\n",
       "  </tbody>\n",
       "</table>\n",
       "<p>2732 rows × 9 columns</p>\n",
       "</div>"
      ],
      "text/plain": [
       "        Carrier     Depart  Arrive  Travel Date Duration Dep-Time  \\\n",
       "0      Air Asia  New Delhi  Mumbai  Sun, 10 Oct   5h 55m    16:15   \n",
       "1      Air Asia  New Delhi  Mumbai  Sun, 10 Oct   6h 00m    05:20   \n",
       "2      Air Asia  New Delhi  Mumbai  Sun, 10 Oct   6h 35m    09:25   \n",
       "3      Air Asia  New Delhi  Mumbai  Sun, 10 Oct  11h 45m    18:35   \n",
       "4      Air Asia  New Delhi  Mumbai  Sun, 10 Oct  14h 05m    16:15   \n",
       "...         ...        ...     ...          ...      ...      ...   \n",
       "2727   Go First  New Delhi  Mumbai  Fri, 29 Oct   7h 30m    08:10   \n",
       "2728   Go First  New Delhi  Mumbai  Fri, 29 Oct   9h 20m    08:10   \n",
       "2729     IndiGo  New Delhi  Mumbai  Fri, 29 Oct   9h 10m    07:40   \n",
       "2730   Go First  New Delhi  Mumbai  Fri, 29 Oct   6h 45m    12:35   \n",
       "2731  Air India  New Delhi  Mumbai  Fri, 29 Oct  12h 45m    07:00   \n",
       "\n",
       "         Arrive-Time No. of Stops    Fare  \n",
       "0              22:10       1 Stop   5,953  \n",
       "1              11:20       1 Stop   5,953  \n",
       "2              16:00       1 Stop   5,953  \n",
       "3     06:20\\n+ 1 day       1 Stop   5,953  \n",
       "4     06:20\\n+ 1 day       1 Stop   5,953  \n",
       "...              ...          ...     ...  \n",
       "2727           15:40       1 Stop  12,519  \n",
       "2728           17:30       1 Stop  12,519  \n",
       "2729           16:50       1 Stop  12,780  \n",
       "2730           19:20       1 Stop  12,939  \n",
       "2731           19:45       1 Stop  13,291  \n",
       "\n",
       "[2732 rows x 9 columns]"
      ]
     },
     "execution_count": 4,
     "metadata": {},
     "output_type": "execute_result"
    }
   ],
   "source": [
    "df = pd.read_csv('flight_prices_final.csv',index_col=None)\n",
    "df"
   ]
  },
  {
   "cell_type": "markdown",
   "id": "0574d575",
   "metadata": {},
   "source": [
    "### Descriptive Analysis"
   ]
  },
  {
   "cell_type": "markdown",
   "id": "ff607c47",
   "metadata": {},
   "source": [
    "**We will use *temp_df* copy of original dataframe for *Descriptive Analysis*.**"
   ]
  },
  {
   "cell_type": "code",
   "execution_count": 5,
   "id": "49a7ce67",
   "metadata": {},
   "outputs": [
    {
     "data": {
      "text/html": [
       "<div>\n",
       "<style scoped>\n",
       "    .dataframe tbody tr th:only-of-type {\n",
       "        vertical-align: middle;\n",
       "    }\n",
       "\n",
       "    .dataframe tbody tr th {\n",
       "        vertical-align: top;\n",
       "    }\n",
       "\n",
       "    .dataframe thead th {\n",
       "        text-align: right;\n",
       "    }\n",
       "</style>\n",
       "<table border=\"1\" class=\"dataframe\">\n",
       "  <thead>\n",
       "    <tr style=\"text-align: right;\">\n",
       "      <th></th>\n",
       "      <th>Carrier</th>\n",
       "      <th>Depart</th>\n",
       "      <th>Arrive</th>\n",
       "      <th>Travel Date</th>\n",
       "      <th>Duration</th>\n",
       "      <th>Dep-Time</th>\n",
       "      <th>Arrive-Time</th>\n",
       "      <th>No. of Stops</th>\n",
       "      <th>Fare</th>\n",
       "    </tr>\n",
       "  </thead>\n",
       "  <tbody>\n",
       "    <tr>\n",
       "      <th>0</th>\n",
       "      <td>Air Asia</td>\n",
       "      <td>New Delhi</td>\n",
       "      <td>Mumbai</td>\n",
       "      <td>Sun, 10 Oct</td>\n",
       "      <td>5h 55m</td>\n",
       "      <td>16:15</td>\n",
       "      <td>22:10</td>\n",
       "      <td>1 Stop</td>\n",
       "      <td>5,953</td>\n",
       "    </tr>\n",
       "    <tr>\n",
       "      <th>1</th>\n",
       "      <td>Air Asia</td>\n",
       "      <td>New Delhi</td>\n",
       "      <td>Mumbai</td>\n",
       "      <td>Sun, 10 Oct</td>\n",
       "      <td>6h 00m</td>\n",
       "      <td>05:20</td>\n",
       "      <td>11:20</td>\n",
       "      <td>1 Stop</td>\n",
       "      <td>5,953</td>\n",
       "    </tr>\n",
       "    <tr>\n",
       "      <th>2</th>\n",
       "      <td>Air Asia</td>\n",
       "      <td>New Delhi</td>\n",
       "      <td>Mumbai</td>\n",
       "      <td>Sun, 10 Oct</td>\n",
       "      <td>6h 35m</td>\n",
       "      <td>09:25</td>\n",
       "      <td>16:00</td>\n",
       "      <td>1 Stop</td>\n",
       "      <td>5,953</td>\n",
       "    </tr>\n",
       "  </tbody>\n",
       "</table>\n",
       "</div>"
      ],
      "text/plain": [
       "    Carrier     Depart  Arrive  Travel Date Duration Dep-Time Arrive-Time  \\\n",
       "0  Air Asia  New Delhi  Mumbai  Sun, 10 Oct   5h 55m    16:15       22:10   \n",
       "1  Air Asia  New Delhi  Mumbai  Sun, 10 Oct   6h 00m    05:20       11:20   \n",
       "2  Air Asia  New Delhi  Mumbai  Sun, 10 Oct   6h 35m    09:25       16:00   \n",
       "\n",
       "  No. of Stops   Fare  \n",
       "0       1 Stop  5,953  \n",
       "1       1 Stop  5,953  \n",
       "2       1 Stop  5,953  "
      ]
     },
     "execution_count": 5,
     "metadata": {},
     "output_type": "execute_result"
    }
   ],
   "source": [
    "temp_df = df.copy(deep=True)\n",
    "temp_df.head(3)"
   ]
  },
  {
   "cell_type": "code",
   "execution_count": 6,
   "id": "436b7529",
   "metadata": {},
   "outputs": [
    {
     "name": "stdout",
     "output_type": "stream",
     "text": [
      "We have 2732 rows of data divided amongst 9 features.\n"
     ]
    }
   ],
   "source": [
    "print(\"We have {} rows of data divided amongst {} features.\".format(temp_df.shape[0],temp_df.shape[1]))"
   ]
  },
  {
   "cell_type": "code",
   "execution_count": 7,
   "id": "dd4bd4ad",
   "metadata": {},
   "outputs": [
    {
     "data": {
      "text/plain": [
       "(0, 9)"
      ]
     },
     "execution_count": 7,
     "metadata": {},
     "output_type": "execute_result"
    }
   ],
   "source": [
    "duplicates = temp_df[temp_df.duplicated()]\n",
    "duplicates.shape"
   ]
  },
  {
   "cell_type": "markdown",
   "id": "6da78b12",
   "metadata": {},
   "source": [
    "**We do not see any duplicate values present in our dataset.**"
   ]
  },
  {
   "cell_type": "code",
   "execution_count": 8,
   "id": "3680de03",
   "metadata": {},
   "outputs": [
    {
     "name": "stdout",
     "output_type": "stream",
     "text": [
      "<class 'pandas.core.frame.DataFrame'>\n",
      "RangeIndex: 2732 entries, 0 to 2731\n",
      "Data columns (total 9 columns):\n",
      " #   Column        Non-Null Count  Dtype \n",
      "---  ------        --------------  ----- \n",
      " 0   Carrier       2732 non-null   object\n",
      " 1   Depart        2732 non-null   object\n",
      " 2   Arrive        2732 non-null   object\n",
      " 3   Travel Date   2732 non-null   object\n",
      " 4   Duration      2732 non-null   object\n",
      " 5   Dep-Time      2732 non-null   object\n",
      " 6   Arrive-Time   2732 non-null   object\n",
      " 7   No. of Stops  2732 non-null   object\n",
      " 8   Fare          2732 non-null   object\n",
      "dtypes: object(9)\n",
      "memory usage: 192.2+ KB\n"
     ]
    }
   ],
   "source": [
    "temp_df.info()"
   ]
  },
  {
   "cell_type": "code",
   "execution_count": 9,
   "id": "e1cda4d5",
   "metadata": {},
   "outputs": [
    {
     "name": "stdout",
     "output_type": "stream",
     "text": [
      "Our dataset have 2732 number of records divided among 8 independent features and 1 target feature.\n"
     ]
    }
   ],
   "source": [
    "print(\"Our dataset have {} number of records divided among 8 independent features and 1 target feature.\".format(temp_df.shape[0]))"
   ]
  },
  {
   "cell_type": "code",
   "execution_count": 10,
   "id": "9487baa5",
   "metadata": {},
   "outputs": [
    {
     "data": {
      "text/plain": [
       "Carrier         0\n",
       "Depart          0\n",
       "Arrive          0\n",
       "Travel Date     0\n",
       "Duration        0\n",
       "Dep-Time        0\n",
       "Arrive-Time     0\n",
       "No. of Stops    0\n",
       "Fare            0\n",
       "dtype: int64"
      ]
     },
     "execution_count": 10,
     "metadata": {},
     "output_type": "execute_result"
    }
   ],
   "source": [
    "temp_df.isnull().sum()"
   ]
  },
  {
   "cell_type": "code",
   "execution_count": 11,
   "id": "7bcc6e51",
   "metadata": {},
   "outputs": [
    {
     "data": {
      "text/plain": [
       "Carrier         0\n",
       "Depart          0\n",
       "Arrive          0\n",
       "Travel Date     0\n",
       "Duration        0\n",
       "Dep-Time        0\n",
       "Arrive-Time     0\n",
       "No. of Stops    0\n",
       "Fare            0\n",
       "dtype: int64"
      ]
     },
     "execution_count": 11,
     "metadata": {},
     "output_type": "execute_result"
    }
   ],
   "source": [
    "temp_df.isin(['--']).sum()"
   ]
  },
  {
   "cell_type": "code",
   "execution_count": 12,
   "id": "e38fe576",
   "metadata": {},
   "outputs": [
    {
     "data": {
      "text/plain": [
       "Carrier         0\n",
       "Depart          0\n",
       "Arrive          0\n",
       "Travel Date     0\n",
       "Duration        0\n",
       "Dep-Time        0\n",
       "Arrive-Time     0\n",
       "No. of Stops    0\n",
       "Fare            0\n",
       "dtype: int64"
      ]
     },
     "execution_count": 12,
     "metadata": {},
     "output_type": "execute_result"
    }
   ],
   "source": [
    "temp_df.isin(['',' ']).sum()"
   ]
  },
  {
   "cell_type": "markdown",
   "id": "ededc181",
   "metadata": {},
   "source": [
    "**We see that we donot have any kind of missing data**"
   ]
  },
  {
   "cell_type": "code",
   "execution_count": 13,
   "id": "10709b65",
   "metadata": {},
   "outputs": [
    {
     "data": {
      "text/plain": [
       "Carrier         object\n",
       "Depart          object\n",
       "Arrive          object\n",
       "Travel Date     object\n",
       "Duration        object\n",
       "Dep-Time        object\n",
       "Arrive-Time     object\n",
       "No. of Stops    object\n",
       "Fare            object\n",
       "dtype: object"
      ]
     },
     "execution_count": 13,
     "metadata": {},
     "output_type": "execute_result"
    }
   ],
   "source": [
    "temp_df.dtypes"
   ]
  },
  {
   "cell_type": "code",
   "execution_count": 14,
   "id": "6232ebff",
   "metadata": {},
   "outputs": [
    {
     "data": {
      "text/html": [
       "<div>\n",
       "<style scoped>\n",
       "    .dataframe tbody tr th:only-of-type {\n",
       "        vertical-align: middle;\n",
       "    }\n",
       "\n",
       "    .dataframe tbody tr th {\n",
       "        vertical-align: top;\n",
       "    }\n",
       "\n",
       "    .dataframe thead th {\n",
       "        text-align: right;\n",
       "    }\n",
       "</style>\n",
       "<table border=\"1\" class=\"dataframe\">\n",
       "  <thead>\n",
       "    <tr style=\"text-align: right;\">\n",
       "      <th></th>\n",
       "      <th>Carrier</th>\n",
       "      <th>Depart</th>\n",
       "      <th>Arrive</th>\n",
       "      <th>Travel Date</th>\n",
       "      <th>Duration</th>\n",
       "      <th>Dep-Time</th>\n",
       "      <th>Arrive-Time</th>\n",
       "      <th>No. of Stops</th>\n",
       "      <th>Fare</th>\n",
       "    </tr>\n",
       "  </thead>\n",
       "  <tbody>\n",
       "    <tr>\n",
       "      <th>count</th>\n",
       "      <td>2732</td>\n",
       "      <td>2732</td>\n",
       "      <td>2732</td>\n",
       "      <td>2732</td>\n",
       "      <td>2732</td>\n",
       "      <td>2732</td>\n",
       "      <td>2732</td>\n",
       "      <td>2732</td>\n",
       "      <td>2732</td>\n",
       "    </tr>\n",
       "    <tr>\n",
       "      <th>unique</th>\n",
       "      <td>6</td>\n",
       "      <td>1</td>\n",
       "      <td>1</td>\n",
       "      <td>19</td>\n",
       "      <td>166</td>\n",
       "      <td>120</td>\n",
       "      <td>142</td>\n",
       "      <td>4</td>\n",
       "      <td>302</td>\n",
       "    </tr>\n",
       "    <tr>\n",
       "      <th>top</th>\n",
       "      <td>Air India</td>\n",
       "      <td>New Delhi</td>\n",
       "      <td>Mumbai</td>\n",
       "      <td>Wed, 20 Oct</td>\n",
       "      <td>2h 05m</td>\n",
       "      <td>08:10</td>\n",
       "      <td>23:00</td>\n",
       "      <td>1 Stop</td>\n",
       "      <td>5,955</td>\n",
       "    </tr>\n",
       "    <tr>\n",
       "      <th>freq</th>\n",
       "      <td>662</td>\n",
       "      <td>2732</td>\n",
       "      <td>2732</td>\n",
       "      <td>166</td>\n",
       "      <td>241</td>\n",
       "      <td>123</td>\n",
       "      <td>101</td>\n",
       "      <td>1852</td>\n",
       "      <td>766</td>\n",
       "    </tr>\n",
       "  </tbody>\n",
       "</table>\n",
       "</div>"
      ],
      "text/plain": [
       "          Carrier     Depart  Arrive  Travel Date Duration Dep-Time  \\\n",
       "count        2732       2732    2732         2732     2732     2732   \n",
       "unique          6          1       1           19      166      120   \n",
       "top     Air India  New Delhi  Mumbai  Wed, 20 Oct   2h 05m    08:10   \n",
       "freq          662       2732    2732          166      241      123   \n",
       "\n",
       "       Arrive-Time No. of Stops   Fare  \n",
       "count         2732         2732   2732  \n",
       "unique         142            4    302  \n",
       "top          23:00       1 Stop  5,955  \n",
       "freq           101         1852    766  "
      ]
     },
     "execution_count": 14,
     "metadata": {},
     "output_type": "execute_result"
    }
   ],
   "source": [
    "temp_df.describe()"
   ]
  },
  {
   "cell_type": "markdown",
   "id": "3a260412",
   "metadata": {},
   "source": [
    "**We need to convert *No.of Stops and Fare* to numerical datatypes.**"
   ]
  },
  {
   "cell_type": "code",
   "execution_count": 15,
   "id": "bae36103",
   "metadata": {},
   "outputs": [
    {
     "data": {
      "text/plain": [
       "0    Sun, 10 Oct\n",
       "1    Sun, 10 Oct\n",
       "2    Sun, 10 Oct\n",
       "Name: Travel Date, dtype: object"
      ]
     },
     "execution_count": 15,
     "metadata": {},
     "output_type": "execute_result"
    }
   ],
   "source": [
    "temp_df['Travel Date'].head(3)"
   ]
  },
  {
   "cell_type": "code",
   "execution_count": 16,
   "id": "b2886d6f",
   "metadata": {},
   "outputs": [
    {
     "data": {
      "text/html": [
       "<div>\n",
       "<style scoped>\n",
       "    .dataframe tbody tr th:only-of-type {\n",
       "        vertical-align: middle;\n",
       "    }\n",
       "\n",
       "    .dataframe tbody tr th {\n",
       "        vertical-align: top;\n",
       "    }\n",
       "\n",
       "    .dataframe thead th {\n",
       "        text-align: right;\n",
       "    }\n",
       "</style>\n",
       "<table border=\"1\" class=\"dataframe\">\n",
       "  <thead>\n",
       "    <tr style=\"text-align: right;\">\n",
       "      <th></th>\n",
       "      <th>Carrier</th>\n",
       "      <th>Depart</th>\n",
       "      <th>Arrive</th>\n",
       "      <th>Travel Date</th>\n",
       "      <th>Duration</th>\n",
       "      <th>Dep-Time</th>\n",
       "      <th>Arrive-Time</th>\n",
       "      <th>No. of Stops</th>\n",
       "      <th>Fare</th>\n",
       "    </tr>\n",
       "  </thead>\n",
       "  <tbody>\n",
       "    <tr>\n",
       "      <th>0</th>\n",
       "      <td>Air Asia</td>\n",
       "      <td>New Delhi</td>\n",
       "      <td>Mumbai</td>\n",
       "      <td>Sun, 10 Oct</td>\n",
       "      <td>5h 55m</td>\n",
       "      <td>16:15</td>\n",
       "      <td>22:10</td>\n",
       "      <td>1 Stop</td>\n",
       "      <td>5,953</td>\n",
       "    </tr>\n",
       "    <tr>\n",
       "      <th>1</th>\n",
       "      <td>Air Asia</td>\n",
       "      <td>New Delhi</td>\n",
       "      <td>Mumbai</td>\n",
       "      <td>Sun, 10 Oct</td>\n",
       "      <td>6h 00m</td>\n",
       "      <td>05:20</td>\n",
       "      <td>11:20</td>\n",
       "      <td>1 Stop</td>\n",
       "      <td>5,953</td>\n",
       "    </tr>\n",
       "    <tr>\n",
       "      <th>2</th>\n",
       "      <td>Air Asia</td>\n",
       "      <td>New Delhi</td>\n",
       "      <td>Mumbai</td>\n",
       "      <td>Sun, 10 Oct</td>\n",
       "      <td>6h 35m</td>\n",
       "      <td>09:25</td>\n",
       "      <td>16:00</td>\n",
       "      <td>1 Stop</td>\n",
       "      <td>5,953</td>\n",
       "    </tr>\n",
       "    <tr>\n",
       "      <th>3</th>\n",
       "      <td>Air Asia</td>\n",
       "      <td>New Delhi</td>\n",
       "      <td>Mumbai</td>\n",
       "      <td>Sun, 10 Oct</td>\n",
       "      <td>11h 45m</td>\n",
       "      <td>18:35</td>\n",
       "      <td>06:20\\n+ 1 day</td>\n",
       "      <td>1 Stop</td>\n",
       "      <td>5,953</td>\n",
       "    </tr>\n",
       "    <tr>\n",
       "      <th>4</th>\n",
       "      <td>Air Asia</td>\n",
       "      <td>New Delhi</td>\n",
       "      <td>Mumbai</td>\n",
       "      <td>Sun, 10 Oct</td>\n",
       "      <td>14h 05m</td>\n",
       "      <td>16:15</td>\n",
       "      <td>06:20\\n+ 1 day</td>\n",
       "      <td>1 Stop</td>\n",
       "      <td>5,953</td>\n",
       "    </tr>\n",
       "  </tbody>\n",
       "</table>\n",
       "</div>"
      ],
      "text/plain": [
       "    Carrier     Depart  Arrive  Travel Date Duration Dep-Time     Arrive-Time  \\\n",
       "0  Air Asia  New Delhi  Mumbai  Sun, 10 Oct   5h 55m    16:15           22:10   \n",
       "1  Air Asia  New Delhi  Mumbai  Sun, 10 Oct   6h 00m    05:20           11:20   \n",
       "2  Air Asia  New Delhi  Mumbai  Sun, 10 Oct   6h 35m    09:25           16:00   \n",
       "3  Air Asia  New Delhi  Mumbai  Sun, 10 Oct  11h 45m    18:35  06:20\\n+ 1 day   \n",
       "4  Air Asia  New Delhi  Mumbai  Sun, 10 Oct  14h 05m    16:15  06:20\\n+ 1 day   \n",
       "\n",
       "  No. of Stops   Fare  \n",
       "0       1 Stop  5,953  \n",
       "1       1 Stop  5,953  \n",
       "2       1 Stop  5,953  \n",
       "3       1 Stop  5,953  \n",
       "4       1 Stop  5,953  "
      ]
     },
     "execution_count": 16,
     "metadata": {},
     "output_type": "execute_result"
    }
   ],
   "source": [
    "temp_df.head(5)"
   ]
  },
  {
   "cell_type": "code",
   "execution_count": 17,
   "id": "26222d43",
   "metadata": {},
   "outputs": [],
   "source": [
    "temp_df['Travel Date'] = pd.to_datetime(temp_df['Travel Date'],format='%a, %d %b')"
   ]
  },
  {
   "cell_type": "code",
   "execution_count": 18,
   "id": "571a7d6a",
   "metadata": {},
   "outputs": [],
   "source": [
    "temp_df['day_of_travel'] = temp_df['Travel Date'].dt.day_name()"
   ]
  },
  {
   "cell_type": "code",
   "execution_count": 19,
   "id": "e9fd90b1",
   "metadata": {},
   "outputs": [
    {
     "data": {
      "text/html": [
       "<div>\n",
       "<style scoped>\n",
       "    .dataframe tbody tr th:only-of-type {\n",
       "        vertical-align: middle;\n",
       "    }\n",
       "\n",
       "    .dataframe tbody tr th {\n",
       "        vertical-align: top;\n",
       "    }\n",
       "\n",
       "    .dataframe thead th {\n",
       "        text-align: right;\n",
       "    }\n",
       "</style>\n",
       "<table border=\"1\" class=\"dataframe\">\n",
       "  <thead>\n",
       "    <tr style=\"text-align: right;\">\n",
       "      <th></th>\n",
       "      <th>Carrier</th>\n",
       "      <th>Depart</th>\n",
       "      <th>Arrive</th>\n",
       "      <th>Travel Date</th>\n",
       "      <th>Duration</th>\n",
       "      <th>Dep-Time</th>\n",
       "      <th>Arrive-Time</th>\n",
       "      <th>No. of Stops</th>\n",
       "      <th>Fare</th>\n",
       "      <th>day_of_travel</th>\n",
       "    </tr>\n",
       "  </thead>\n",
       "  <tbody>\n",
       "    <tr>\n",
       "      <th>0</th>\n",
       "      <td>Air Asia</td>\n",
       "      <td>New Delhi</td>\n",
       "      <td>Mumbai</td>\n",
       "      <td>1900-10-10</td>\n",
       "      <td>5h 55m</td>\n",
       "      <td>16:15</td>\n",
       "      <td>22:10</td>\n",
       "      <td>1 Stop</td>\n",
       "      <td>5,953</td>\n",
       "      <td>Wednesday</td>\n",
       "    </tr>\n",
       "    <tr>\n",
       "      <th>1</th>\n",
       "      <td>Air Asia</td>\n",
       "      <td>New Delhi</td>\n",
       "      <td>Mumbai</td>\n",
       "      <td>1900-10-10</td>\n",
       "      <td>6h 00m</td>\n",
       "      <td>05:20</td>\n",
       "      <td>11:20</td>\n",
       "      <td>1 Stop</td>\n",
       "      <td>5,953</td>\n",
       "      <td>Wednesday</td>\n",
       "    </tr>\n",
       "    <tr>\n",
       "      <th>2</th>\n",
       "      <td>Air Asia</td>\n",
       "      <td>New Delhi</td>\n",
       "      <td>Mumbai</td>\n",
       "      <td>1900-10-10</td>\n",
       "      <td>6h 35m</td>\n",
       "      <td>09:25</td>\n",
       "      <td>16:00</td>\n",
       "      <td>1 Stop</td>\n",
       "      <td>5,953</td>\n",
       "      <td>Wednesday</td>\n",
       "    </tr>\n",
       "    <tr>\n",
       "      <th>3</th>\n",
       "      <td>Air Asia</td>\n",
       "      <td>New Delhi</td>\n",
       "      <td>Mumbai</td>\n",
       "      <td>1900-10-10</td>\n",
       "      <td>11h 45m</td>\n",
       "      <td>18:35</td>\n",
       "      <td>06:20\\n+ 1 day</td>\n",
       "      <td>1 Stop</td>\n",
       "      <td>5,953</td>\n",
       "      <td>Wednesday</td>\n",
       "    </tr>\n",
       "    <tr>\n",
       "      <th>4</th>\n",
       "      <td>Air Asia</td>\n",
       "      <td>New Delhi</td>\n",
       "      <td>Mumbai</td>\n",
       "      <td>1900-10-10</td>\n",
       "      <td>14h 05m</td>\n",
       "      <td>16:15</td>\n",
       "      <td>06:20\\n+ 1 day</td>\n",
       "      <td>1 Stop</td>\n",
       "      <td>5,953</td>\n",
       "      <td>Wednesday</td>\n",
       "    </tr>\n",
       "  </tbody>\n",
       "</table>\n",
       "</div>"
      ],
      "text/plain": [
       "    Carrier     Depart  Arrive Travel Date Duration Dep-Time     Arrive-Time  \\\n",
       "0  Air Asia  New Delhi  Mumbai  1900-10-10   5h 55m    16:15           22:10   \n",
       "1  Air Asia  New Delhi  Mumbai  1900-10-10   6h 00m    05:20           11:20   \n",
       "2  Air Asia  New Delhi  Mumbai  1900-10-10   6h 35m    09:25           16:00   \n",
       "3  Air Asia  New Delhi  Mumbai  1900-10-10  11h 45m    18:35  06:20\\n+ 1 day   \n",
       "4  Air Asia  New Delhi  Mumbai  1900-10-10  14h 05m    16:15  06:20\\n+ 1 day   \n",
       "\n",
       "  No. of Stops   Fare day_of_travel  \n",
       "0       1 Stop  5,953     Wednesday  \n",
       "1       1 Stop  5,953     Wednesday  \n",
       "2       1 Stop  5,953     Wednesday  \n",
       "3       1 Stop  5,953     Wednesday  \n",
       "4       1 Stop  5,953     Wednesday  "
      ]
     },
     "execution_count": 19,
     "metadata": {},
     "output_type": "execute_result"
    }
   ],
   "source": [
    "temp_df.head(5)"
   ]
  },
  {
   "cell_type": "code",
   "execution_count": 20,
   "id": "b4a61bd6",
   "metadata": {},
   "outputs": [],
   "source": [
    "temp_df['Travel Date'] = pd.to_datetime(temp_df['Travel Date'],format='%a, %d %b').dt.strftime('%d %b')"
   ]
  },
  {
   "cell_type": "code",
   "execution_count": 21,
   "id": "ff464320",
   "metadata": {},
   "outputs": [
    {
     "data": {
      "text/html": [
       "<div>\n",
       "<style scoped>\n",
       "    .dataframe tbody tr th:only-of-type {\n",
       "        vertical-align: middle;\n",
       "    }\n",
       "\n",
       "    .dataframe tbody tr th {\n",
       "        vertical-align: top;\n",
       "    }\n",
       "\n",
       "    .dataframe thead th {\n",
       "        text-align: right;\n",
       "    }\n",
       "</style>\n",
       "<table border=\"1\" class=\"dataframe\">\n",
       "  <thead>\n",
       "    <tr style=\"text-align: right;\">\n",
       "      <th></th>\n",
       "      <th>Carrier</th>\n",
       "      <th>Depart</th>\n",
       "      <th>Arrive</th>\n",
       "      <th>Travel Date</th>\n",
       "      <th>Duration</th>\n",
       "      <th>Dep-Time</th>\n",
       "      <th>Arrive-Time</th>\n",
       "      <th>No. of Stops</th>\n",
       "      <th>Fare</th>\n",
       "      <th>day_of_travel</th>\n",
       "    </tr>\n",
       "  </thead>\n",
       "  <tbody>\n",
       "    <tr>\n",
       "      <th>0</th>\n",
       "      <td>Air Asia</td>\n",
       "      <td>New Delhi</td>\n",
       "      <td>Mumbai</td>\n",
       "      <td>10 Oct</td>\n",
       "      <td>5h 55m</td>\n",
       "      <td>16:15</td>\n",
       "      <td>22:10</td>\n",
       "      <td>1 Stop</td>\n",
       "      <td>5,953</td>\n",
       "      <td>Wednesday</td>\n",
       "    </tr>\n",
       "    <tr>\n",
       "      <th>1</th>\n",
       "      <td>Air Asia</td>\n",
       "      <td>New Delhi</td>\n",
       "      <td>Mumbai</td>\n",
       "      <td>10 Oct</td>\n",
       "      <td>6h 00m</td>\n",
       "      <td>05:20</td>\n",
       "      <td>11:20</td>\n",
       "      <td>1 Stop</td>\n",
       "      <td>5,953</td>\n",
       "      <td>Wednesday</td>\n",
       "    </tr>\n",
       "    <tr>\n",
       "      <th>2</th>\n",
       "      <td>Air Asia</td>\n",
       "      <td>New Delhi</td>\n",
       "      <td>Mumbai</td>\n",
       "      <td>10 Oct</td>\n",
       "      <td>6h 35m</td>\n",
       "      <td>09:25</td>\n",
       "      <td>16:00</td>\n",
       "      <td>1 Stop</td>\n",
       "      <td>5,953</td>\n",
       "      <td>Wednesday</td>\n",
       "    </tr>\n",
       "    <tr>\n",
       "      <th>3</th>\n",
       "      <td>Air Asia</td>\n",
       "      <td>New Delhi</td>\n",
       "      <td>Mumbai</td>\n",
       "      <td>10 Oct</td>\n",
       "      <td>11h 45m</td>\n",
       "      <td>18:35</td>\n",
       "      <td>06:20\\n+ 1 day</td>\n",
       "      <td>1 Stop</td>\n",
       "      <td>5,953</td>\n",
       "      <td>Wednesday</td>\n",
       "    </tr>\n",
       "    <tr>\n",
       "      <th>4</th>\n",
       "      <td>Air Asia</td>\n",
       "      <td>New Delhi</td>\n",
       "      <td>Mumbai</td>\n",
       "      <td>10 Oct</td>\n",
       "      <td>14h 05m</td>\n",
       "      <td>16:15</td>\n",
       "      <td>06:20\\n+ 1 day</td>\n",
       "      <td>1 Stop</td>\n",
       "      <td>5,953</td>\n",
       "      <td>Wednesday</td>\n",
       "    </tr>\n",
       "  </tbody>\n",
       "</table>\n",
       "</div>"
      ],
      "text/plain": [
       "    Carrier     Depart  Arrive Travel Date Duration Dep-Time     Arrive-Time  \\\n",
       "0  Air Asia  New Delhi  Mumbai      10 Oct   5h 55m    16:15           22:10   \n",
       "1  Air Asia  New Delhi  Mumbai      10 Oct   6h 00m    05:20           11:20   \n",
       "2  Air Asia  New Delhi  Mumbai      10 Oct   6h 35m    09:25           16:00   \n",
       "3  Air Asia  New Delhi  Mumbai      10 Oct  11h 45m    18:35  06:20\\n+ 1 day   \n",
       "4  Air Asia  New Delhi  Mumbai      10 Oct  14h 05m    16:15  06:20\\n+ 1 day   \n",
       "\n",
       "  No. of Stops   Fare day_of_travel  \n",
       "0       1 Stop  5,953     Wednesday  \n",
       "1       1 Stop  5,953     Wednesday  \n",
       "2       1 Stop  5,953     Wednesday  \n",
       "3       1 Stop  5,953     Wednesday  \n",
       "4       1 Stop  5,953     Wednesday  "
      ]
     },
     "execution_count": 21,
     "metadata": {},
     "output_type": "execute_result"
    }
   ],
   "source": [
    "temp_df.head(5)"
   ]
  },
  {
   "cell_type": "code",
   "execution_count": 22,
   "id": "b52e062c",
   "metadata": {},
   "outputs": [
    {
     "data": {
      "text/plain": [
       "dtype('O')"
      ]
     },
     "execution_count": 22,
     "metadata": {},
     "output_type": "execute_result"
    }
   ],
   "source": [
    "temp_df['Travel Date'].dtypes"
   ]
  },
  {
   "cell_type": "markdown",
   "id": "97a0b386",
   "metadata": {},
   "source": [
    "## Exploratory data analysis"
   ]
  },
  {
   "cell_type": "markdown",
   "id": "40cb0410",
   "metadata": {},
   "source": [
    "**We will use `temp_df` copy of original dataset for EDA.**"
   ]
  },
  {
   "cell_type": "markdown",
   "id": "0c4afd6d",
   "metadata": {},
   "source": [
    "### Univariate Analysis"
   ]
  },
  {
   "cell_type": "code",
   "execution_count": 23,
   "id": "2b7ab885",
   "metadata": {},
   "outputs": [],
   "source": [
    "list_cols = temp_df.columns"
   ]
  },
  {
   "cell_type": "code",
   "execution_count": 24,
   "id": "f65e1d18",
   "metadata": {},
   "outputs": [
    {
     "data": {
      "text/plain": [
       "'Carrier'"
      ]
     },
     "execution_count": 24,
     "metadata": {},
     "output_type": "execute_result"
    }
   ],
   "source": [
    "list_cols[0]"
   ]
  },
  {
   "cell_type": "markdown",
   "id": "9b26f9af",
   "metadata": {},
   "source": [
    "#### 1.'Carrier'"
   ]
  },
  {
   "cell_type": "markdown",
   "id": "439313d8",
   "metadata": {},
   "source": [
    "**`Carrier` feature provides us about list of flight service provider companies.**"
   ]
  },
  {
   "cell_type": "code",
   "execution_count": 25,
   "id": "22598229",
   "metadata": {},
   "outputs": [
    {
     "data": {
      "text/plain": [
       "dtype('O')"
      ]
     },
     "execution_count": 25,
     "metadata": {},
     "output_type": "execute_result"
    }
   ],
   "source": [
    "temp_df['Carrier'].dtypes"
   ]
  },
  {
   "cell_type": "markdown",
   "id": "54619a46",
   "metadata": {},
   "source": [
    "**The datatype of this column is `object` type. This feature is `categorical`.**"
   ]
  },
  {
   "cell_type": "code",
   "execution_count": 26,
   "id": "450b9044",
   "metadata": {},
   "outputs": [
    {
     "data": {
      "text/plain": [
       "Air India    662\n",
       "IndiGo       605\n",
       "Vistara      602\n",
       "Go First     396\n",
       "SpiceJet     276\n",
       "Air Asia     191\n",
       "Name: Carrier, dtype: int64"
      ]
     },
     "execution_count": 26,
     "metadata": {},
     "output_type": "execute_result"
    }
   ],
   "source": [
    "temp_df['Carrier'].value_counts()"
   ]
  },
  {
   "cell_type": "code",
   "execution_count": 27,
   "id": "8d4ec647",
   "metadata": {},
   "outputs": [
    {
     "data": {
      "image/png": "[encoded data removed]",
      "text/plain": [
       "<Figure size 432x288 with 1 Axes>"
      ]
     },
     "metadata": {},
     "output_type": "display_data"
    }
   ],
   "source": [
    "temp_df['Carrier'].value_counts().plot(kind='pie')\n",
    "plt.title('Carriers')\n",
    "plt.show()"
   ]
  },
  {
   "cell_type": "markdown",
   "id": "b97e5296",
   "metadata": {},
   "source": [
    "**We observe that our dataset mostly have flight information of carriers `Air India`,`IndiGo`, and `Vistra`. We have very few data available for `Air Asia`.**"
   ]
  },
  {
   "cell_type": "code",
   "execution_count": 28,
   "id": "942da442",
   "metadata": {},
   "outputs": [
    {
     "data": {
      "text/plain": [
       "'Depart'"
      ]
     },
     "execution_count": 28,
     "metadata": {},
     "output_type": "execute_result"
    }
   ],
   "source": [
    "list_cols[1]"
   ]
  },
  {
   "cell_type": "markdown",
   "id": "008da812",
   "metadata": {},
   "source": [
    "#### 2. 'Depart'"
   ]
  },
  {
   "cell_type": "markdown",
   "id": "2e6bae31",
   "metadata": {},
   "source": [
    "**`Depart` feature provides us information about the departure airport.**"
   ]
  },
  {
   "cell_type": "code",
   "execution_count": 29,
   "id": "2260d204",
   "metadata": {},
   "outputs": [
    {
     "data": {
      "text/plain": [
       "dtype('O')"
      ]
     },
     "execution_count": 29,
     "metadata": {},
     "output_type": "execute_result"
    }
   ],
   "source": [
    "temp_df['Depart'].dtypes"
   ]
  },
  {
   "cell_type": "markdown",
   "id": "f95f62ed",
   "metadata": {},
   "source": [
    "**This feature is `object` type and it is a `categorical` feature.**"
   ]
  },
  {
   "cell_type": "code",
   "execution_count": 30,
   "id": "f31a477a",
   "metadata": {},
   "outputs": [
    {
     "data": {
      "text/plain": [
       "New Delhi    2732\n",
       "Name: Depart, dtype: int64"
      ]
     },
     "execution_count": 30,
     "metadata": {},
     "output_type": "execute_result"
    }
   ],
   "source": [
    "temp_df['Depart'].value_counts()"
   ]
  },
  {
   "cell_type": "code",
   "execution_count": 31,
   "id": "e85c5f87",
   "metadata": {},
   "outputs": [
    {
     "data": {
      "text/plain": [
       "'Arrive'"
      ]
     },
     "execution_count": 31,
     "metadata": {},
     "output_type": "execute_result"
    }
   ],
   "source": [
    "list_cols[2]"
   ]
  },
  {
   "cell_type": "markdown",
   "id": "ac2a5c65",
   "metadata": {},
   "source": [
    "#### 3. 'Arrive'"
   ]
  },
  {
   "cell_type": "markdown",
   "id": "32062d29",
   "metadata": {},
   "source": [
    "**`Arrive` feature provides information about arrival airport for the flights.**"
   ]
  },
  {
   "cell_type": "code",
   "execution_count": 32,
   "id": "29041799",
   "metadata": {},
   "outputs": [
    {
     "data": {
      "text/plain": [
       "dtype('O')"
      ]
     },
     "execution_count": 32,
     "metadata": {},
     "output_type": "execute_result"
    }
   ],
   "source": [
    "temp_df['Arrive'].dtypes"
   ]
  },
  {
   "cell_type": "markdown",
   "id": "a74a7608",
   "metadata": {},
   "source": [
    "**This feature is `categorical` with `object` datatype values.**"
   ]
  },
  {
   "cell_type": "code",
   "execution_count": 33,
   "id": "8504756e",
   "metadata": {},
   "outputs": [
    {
     "data": {
      "text/plain": [
       "Mumbai    2732\n",
       "Name: Arrive, dtype: int64"
      ]
     },
     "execution_count": 33,
     "metadata": {},
     "output_type": "execute_result"
    }
   ],
   "source": [
    "temp_df['Arrive'].value_counts()"
   ]
  },
  {
   "cell_type": "markdown",
   "id": "acddd87f",
   "metadata": {},
   "source": [
    "**Our dataset has all flights departing from `New Delhi` airport and arriving at `Mumbai`. So we will try out our model's working for New Delhi to Mumbai flight prediction.**"
   ]
  },
  {
   "cell_type": "markdown",
   "id": "24dbf801",
   "metadata": {},
   "source": [
    "# We will remove 'Depart' and 'Arrive' features during data pre-processing."
   ]
  },
  {
   "cell_type": "code",
   "execution_count": 34,
   "id": "15771a6f",
   "metadata": {},
   "outputs": [
    {
     "data": {
      "text/html": [
       "<div>\n",
       "<style scoped>\n",
       "    .dataframe tbody tr th:only-of-type {\n",
       "        vertical-align: middle;\n",
       "    }\n",
       "\n",
       "    .dataframe tbody tr th {\n",
       "        vertical-align: top;\n",
       "    }\n",
       "\n",
       "    .dataframe thead th {\n",
       "        text-align: right;\n",
       "    }\n",
       "</style>\n",
       "<table border=\"1\" class=\"dataframe\">\n",
       "  <thead>\n",
       "    <tr style=\"text-align: right;\">\n",
       "      <th></th>\n",
       "      <th>Carrier</th>\n",
       "      <th>Depart</th>\n",
       "      <th>Arrive</th>\n",
       "      <th>Travel Date</th>\n",
       "      <th>Duration</th>\n",
       "      <th>Dep-Time</th>\n",
       "      <th>Arrive-Time</th>\n",
       "      <th>No. of Stops</th>\n",
       "      <th>Fare</th>\n",
       "      <th>day_of_travel</th>\n",
       "    </tr>\n",
       "  </thead>\n",
       "  <tbody>\n",
       "    <tr>\n",
       "      <th>0</th>\n",
       "      <td>Air Asia</td>\n",
       "      <td>New Delhi</td>\n",
       "      <td>Mumbai</td>\n",
       "      <td>10 Oct</td>\n",
       "      <td>5h 55m</td>\n",
       "      <td>16:15</td>\n",
       "      <td>22:10</td>\n",
       "      <td>1 Stop</td>\n",
       "      <td>5,953</td>\n",
       "      <td>Wednesday</td>\n",
       "    </tr>\n",
       "    <tr>\n",
       "      <th>1</th>\n",
       "      <td>Air Asia</td>\n",
       "      <td>New Delhi</td>\n",
       "      <td>Mumbai</td>\n",
       "      <td>10 Oct</td>\n",
       "      <td>6h 00m</td>\n",
       "      <td>05:20</td>\n",
       "      <td>11:20</td>\n",
       "      <td>1 Stop</td>\n",
       "      <td>5,953</td>\n",
       "      <td>Wednesday</td>\n",
       "    </tr>\n",
       "    <tr>\n",
       "      <th>2</th>\n",
       "      <td>Air Asia</td>\n",
       "      <td>New Delhi</td>\n",
       "      <td>Mumbai</td>\n",
       "      <td>10 Oct</td>\n",
       "      <td>6h 35m</td>\n",
       "      <td>09:25</td>\n",
       "      <td>16:00</td>\n",
       "      <td>1 Stop</td>\n",
       "      <td>5,953</td>\n",
       "      <td>Wednesday</td>\n",
       "    </tr>\n",
       "    <tr>\n",
       "      <th>3</th>\n",
       "      <td>Air Asia</td>\n",
       "      <td>New Delhi</td>\n",
       "      <td>Mumbai</td>\n",
       "      <td>10 Oct</td>\n",
       "      <td>11h 45m</td>\n",
       "      <td>18:35</td>\n",
       "      <td>06:20\\n+ 1 day</td>\n",
       "      <td>1 Stop</td>\n",
       "      <td>5,953</td>\n",
       "      <td>Wednesday</td>\n",
       "    </tr>\n",
       "    <tr>\n",
       "      <th>4</th>\n",
       "      <td>Air Asia</td>\n",
       "      <td>New Delhi</td>\n",
       "      <td>Mumbai</td>\n",
       "      <td>10 Oct</td>\n",
       "      <td>14h 05m</td>\n",
       "      <td>16:15</td>\n",
       "      <td>06:20\\n+ 1 day</td>\n",
       "      <td>1 Stop</td>\n",
       "      <td>5,953</td>\n",
       "      <td>Wednesday</td>\n",
       "    </tr>\n",
       "  </tbody>\n",
       "</table>\n",
       "</div>"
      ],
      "text/plain": [
       "    Carrier     Depart  Arrive Travel Date Duration Dep-Time     Arrive-Time  \\\n",
       "0  Air Asia  New Delhi  Mumbai      10 Oct   5h 55m    16:15           22:10   \n",
       "1  Air Asia  New Delhi  Mumbai      10 Oct   6h 00m    05:20           11:20   \n",
       "2  Air Asia  New Delhi  Mumbai      10 Oct   6h 35m    09:25           16:00   \n",
       "3  Air Asia  New Delhi  Mumbai      10 Oct  11h 45m    18:35  06:20\\n+ 1 day   \n",
       "4  Air Asia  New Delhi  Mumbai      10 Oct  14h 05m    16:15  06:20\\n+ 1 day   \n",
       "\n",
       "  No. of Stops   Fare day_of_travel  \n",
       "0       1 Stop  5,953     Wednesday  \n",
       "1       1 Stop  5,953     Wednesday  \n",
       "2       1 Stop  5,953     Wednesday  \n",
       "3       1 Stop  5,953     Wednesday  \n",
       "4       1 Stop  5,953     Wednesday  "
      ]
     },
     "execution_count": 34,
     "metadata": {},
     "output_type": "execute_result"
    }
   ],
   "source": [
    "temp_df.head(5)"
   ]
  },
  {
   "cell_type": "code",
   "execution_count": 35,
   "id": "e5c56299",
   "metadata": {},
   "outputs": [],
   "source": [
    "temp_df.drop(['Depart','Arrive'],axis='columns',inplace=True)"
   ]
  },
  {
   "cell_type": "code",
   "execution_count": 36,
   "id": "9401cb85",
   "metadata": {},
   "outputs": [
    {
     "data": {
      "text/html": [
       "<div>\n",
       "<style scoped>\n",
       "    .dataframe tbody tr th:only-of-type {\n",
       "        vertical-align: middle;\n",
       "    }\n",
       "\n",
       "    .dataframe tbody tr th {\n",
       "        vertical-align: top;\n",
       "    }\n",
       "\n",
       "    .dataframe thead th {\n",
       "        text-align: right;\n",
       "    }\n",
       "</style>\n",
       "<table border=\"1\" class=\"dataframe\">\n",
       "  <thead>\n",
       "    <tr style=\"text-align: right;\">\n",
       "      <th></th>\n",
       "      <th>Carrier</th>\n",
       "      <th>Travel Date</th>\n",
       "      <th>Duration</th>\n",
       "      <th>Dep-Time</th>\n",
       "      <th>Arrive-Time</th>\n",
       "      <th>No. of Stops</th>\n",
       "      <th>Fare</th>\n",
       "      <th>day_of_travel</th>\n",
       "    </tr>\n",
       "  </thead>\n",
       "  <tbody>\n",
       "    <tr>\n",
       "      <th>0</th>\n",
       "      <td>Air Asia</td>\n",
       "      <td>10 Oct</td>\n",
       "      <td>5h 55m</td>\n",
       "      <td>16:15</td>\n",
       "      <td>22:10</td>\n",
       "      <td>1 Stop</td>\n",
       "      <td>5,953</td>\n",
       "      <td>Wednesday</td>\n",
       "    </tr>\n",
       "    <tr>\n",
       "      <th>1</th>\n",
       "      <td>Air Asia</td>\n",
       "      <td>10 Oct</td>\n",
       "      <td>6h 00m</td>\n",
       "      <td>05:20</td>\n",
       "      <td>11:20</td>\n",
       "      <td>1 Stop</td>\n",
       "      <td>5,953</td>\n",
       "      <td>Wednesday</td>\n",
       "    </tr>\n",
       "    <tr>\n",
       "      <th>2</th>\n",
       "      <td>Air Asia</td>\n",
       "      <td>10 Oct</td>\n",
       "      <td>6h 35m</td>\n",
       "      <td>09:25</td>\n",
       "      <td>16:00</td>\n",
       "      <td>1 Stop</td>\n",
       "      <td>5,953</td>\n",
       "      <td>Wednesday</td>\n",
       "    </tr>\n",
       "    <tr>\n",
       "      <th>3</th>\n",
       "      <td>Air Asia</td>\n",
       "      <td>10 Oct</td>\n",
       "      <td>11h 45m</td>\n",
       "      <td>18:35</td>\n",
       "      <td>06:20\\n+ 1 day</td>\n",
       "      <td>1 Stop</td>\n",
       "      <td>5,953</td>\n",
       "      <td>Wednesday</td>\n",
       "    </tr>\n",
       "  </tbody>\n",
       "</table>\n",
       "</div>"
      ],
      "text/plain": [
       "    Carrier Travel Date Duration Dep-Time     Arrive-Time No. of Stops   Fare  \\\n",
       "0  Air Asia      10 Oct   5h 55m    16:15           22:10       1 Stop  5,953   \n",
       "1  Air Asia      10 Oct   6h 00m    05:20           11:20       1 Stop  5,953   \n",
       "2  Air Asia      10 Oct   6h 35m    09:25           16:00       1 Stop  5,953   \n",
       "3  Air Asia      10 Oct  11h 45m    18:35  06:20\\n+ 1 day       1 Stop  5,953   \n",
       "\n",
       "  day_of_travel  \n",
       "0     Wednesday  \n",
       "1     Wednesday  \n",
       "2     Wednesday  \n",
       "3     Wednesday  "
      ]
     },
     "execution_count": 36,
     "metadata": {},
     "output_type": "execute_result"
    }
   ],
   "source": [
    "temp_df.head(4)"
   ]
  },
  {
   "cell_type": "code",
   "execution_count": 37,
   "id": "ee576907",
   "metadata": {},
   "outputs": [
    {
     "data": {
      "text/plain": [
       "'Travel Date'"
      ]
     },
     "execution_count": 37,
     "metadata": {},
     "output_type": "execute_result"
    }
   ],
   "source": [
    "list_cols[3]"
   ]
  },
  {
   "cell_type": "markdown",
   "id": "975d0299",
   "metadata": {},
   "source": [
    "#### 4. 'Travel Date'"
   ]
  },
  {
   "cell_type": "markdown",
   "id": "13a18edd",
   "metadata": {},
   "source": [
    "**`Travel Date` feature provides the date of travelling.**"
   ]
  },
  {
   "cell_type": "code",
   "execution_count": 38,
   "id": "fc95573f",
   "metadata": {},
   "outputs": [
    {
     "data": {
      "text/plain": [
       "dtype('O')"
      ]
     },
     "execution_count": 38,
     "metadata": {},
     "output_type": "execute_result"
    }
   ],
   "source": [
    "temp_df['Travel Date'].dtypes"
   ]
  },
  {
   "cell_type": "markdown",
   "id": "8267e443",
   "metadata": {},
   "source": [
    "**This is a `object` type feature.**"
   ]
  },
  {
   "cell_type": "code",
   "execution_count": 39,
   "id": "123c2e45",
   "metadata": {},
   "outputs": [
    {
     "data": {
      "text/plain": [
       "array(['10 Oct', '11 Oct', '12 Oct', '13 Oct', '14 Oct', '15 Oct',\n",
       "       '16 Oct', '17 Oct', '19 Oct', '20 Oct', '21 Oct', '22 Oct',\n",
       "       '23 Oct', '24 Oct', '25 Oct', '26 Oct', '27 Oct', '28 Oct',\n",
       "       '29 Oct'], dtype=object)"
      ]
     },
     "execution_count": 39,
     "metadata": {},
     "output_type": "execute_result"
    }
   ],
   "source": [
    "temp_df['Travel Date'].unique()"
   ]
  },
  {
   "cell_type": "markdown",
   "id": "251e74b1",
   "metadata": {},
   "source": [
    "**In our dataset, we have flight details for flights flew between `10-oct-2021 till 29-oct-2021`.**"
   ]
  },
  {
   "cell_type": "code",
   "execution_count": 40,
   "id": "e26ee249",
   "metadata": {},
   "outputs": [
    {
     "data": {
      "text/plain": [
       "'Duration'"
      ]
     },
     "execution_count": 40,
     "metadata": {},
     "output_type": "execute_result"
    }
   ],
   "source": [
    "list_cols[4]"
   ]
  },
  {
   "cell_type": "markdown",
   "id": "9dca532c",
   "metadata": {},
   "source": [
    "#### 5.'Duration'"
   ]
  },
  {
   "cell_type": "markdown",
   "id": "a959b7cd",
   "metadata": {},
   "source": [
    "**`Duration` feature provides us information about the time duration for the particular journey.**"
   ]
  },
  {
   "cell_type": "code",
   "execution_count": 41,
   "id": "7b1a2cd0",
   "metadata": {},
   "outputs": [
    {
     "data": {
      "text/plain": [
       "dtype('O')"
      ]
     },
     "execution_count": 41,
     "metadata": {},
     "output_type": "execute_result"
    }
   ],
   "source": [
    "temp_df['Duration'].dtypes"
   ]
  },
  {
   "cell_type": "markdown",
   "id": "be2c64de",
   "metadata": {},
   "source": [
    "**Data in this feature is of `object` datatype.**"
   ]
  },
  {
   "cell_type": "code",
   "execution_count": 42,
   "id": "de1f886e",
   "metadata": {},
   "outputs": [
    {
     "data": {
      "text/plain": [
       "0    5h 55m\n",
       "1    6h 00m\n",
       "2    6h 35m\n",
       "Name: Duration, dtype: object"
      ]
     },
     "execution_count": 42,
     "metadata": {},
     "output_type": "execute_result"
    }
   ],
   "source": [
    "temp_df['Duration'].head(3)"
   ]
  },
  {
   "cell_type": "markdown",
   "id": "bbdceced",
   "metadata": {},
   "source": [
    "**for better analysis and interpretations, we will split the data values and make them `numerical` type.**"
   ]
  },
  {
   "cell_type": "code",
   "execution_count": 43,
   "id": "1c21a2c7",
   "metadata": {},
   "outputs": [],
   "source": [
    "temp_df['Duration_in_hours'] = ''\n",
    "for i in range(temp_df.shape[0]):\n",
    "    temp_df['Duration_in_hours'][i] = temp_df['Duration'][i].split('h')[0]"
   ]
  },
  {
   "cell_type": "code",
   "execution_count": 44,
   "id": "5cee2bfc",
   "metadata": {},
   "outputs": [
    {
     "data": {
      "text/html": [
       "<div>\n",
       "<style scoped>\n",
       "    .dataframe tbody tr th:only-of-type {\n",
       "        vertical-align: middle;\n",
       "    }\n",
       "\n",
       "    .dataframe tbody tr th {\n",
       "        vertical-align: top;\n",
       "    }\n",
       "\n",
       "    .dataframe thead th {\n",
       "        text-align: right;\n",
       "    }\n",
       "</style>\n",
       "<table border=\"1\" class=\"dataframe\">\n",
       "  <thead>\n",
       "    <tr style=\"text-align: right;\">\n",
       "      <th></th>\n",
       "      <th>Carrier</th>\n",
       "      <th>Travel Date</th>\n",
       "      <th>Duration</th>\n",
       "      <th>Dep-Time</th>\n",
       "      <th>Arrive-Time</th>\n",
       "      <th>No. of Stops</th>\n",
       "      <th>Fare</th>\n",
       "      <th>day_of_travel</th>\n",
       "      <th>Duration_in_hours</th>\n",
       "    </tr>\n",
       "  </thead>\n",
       "  <tbody>\n",
       "    <tr>\n",
       "      <th>0</th>\n",
       "      <td>Air Asia</td>\n",
       "      <td>10 Oct</td>\n",
       "      <td>5h 55m</td>\n",
       "      <td>16:15</td>\n",
       "      <td>22:10</td>\n",
       "      <td>1 Stop</td>\n",
       "      <td>5,953</td>\n",
       "      <td>Wednesday</td>\n",
       "      <td>5</td>\n",
       "    </tr>\n",
       "    <tr>\n",
       "      <th>1</th>\n",
       "      <td>Air Asia</td>\n",
       "      <td>10 Oct</td>\n",
       "      <td>6h 00m</td>\n",
       "      <td>05:20</td>\n",
       "      <td>11:20</td>\n",
       "      <td>1 Stop</td>\n",
       "      <td>5,953</td>\n",
       "      <td>Wednesday</td>\n",
       "      <td>6</td>\n",
       "    </tr>\n",
       "    <tr>\n",
       "      <th>2</th>\n",
       "      <td>Air Asia</td>\n",
       "      <td>10 Oct</td>\n",
       "      <td>6h 35m</td>\n",
       "      <td>09:25</td>\n",
       "      <td>16:00</td>\n",
       "      <td>1 Stop</td>\n",
       "      <td>5,953</td>\n",
       "      <td>Wednesday</td>\n",
       "      <td>6</td>\n",
       "    </tr>\n",
       "    <tr>\n",
       "      <th>3</th>\n",
       "      <td>Air Asia</td>\n",
       "      <td>10 Oct</td>\n",
       "      <td>11h 45m</td>\n",
       "      <td>18:35</td>\n",
       "      <td>06:20\\n+ 1 day</td>\n",
       "      <td>1 Stop</td>\n",
       "      <td>5,953</td>\n",
       "      <td>Wednesday</td>\n",
       "      <td>11</td>\n",
       "    </tr>\n",
       "    <tr>\n",
       "      <th>4</th>\n",
       "      <td>Air Asia</td>\n",
       "      <td>10 Oct</td>\n",
       "      <td>14h 05m</td>\n",
       "      <td>16:15</td>\n",
       "      <td>06:20\\n+ 1 day</td>\n",
       "      <td>1 Stop</td>\n",
       "      <td>5,953</td>\n",
       "      <td>Wednesday</td>\n",
       "      <td>14</td>\n",
       "    </tr>\n",
       "    <tr>\n",
       "      <th>5</th>\n",
       "      <td>Air Asia</td>\n",
       "      <td>10 Oct</td>\n",
       "      <td>14h 10m</td>\n",
       "      <td>08:00</td>\n",
       "      <td>22:10</td>\n",
       "      <td>1 Stop</td>\n",
       "      <td>5,953</td>\n",
       "      <td>Wednesday</td>\n",
       "      <td>14</td>\n",
       "    </tr>\n",
       "    <tr>\n",
       "      <th>6</th>\n",
       "      <td>Go First</td>\n",
       "      <td>10 Oct</td>\n",
       "      <td>2h 05m</td>\n",
       "      <td>09:30</td>\n",
       "      <td>11:35</td>\n",
       "      <td>Non Stop</td>\n",
       "      <td>5,954</td>\n",
       "      <td>Wednesday</td>\n",
       "      <td>2</td>\n",
       "    </tr>\n",
       "  </tbody>\n",
       "</table>\n",
       "</div>"
      ],
      "text/plain": [
       "    Carrier Travel Date Duration Dep-Time     Arrive-Time No. of Stops   Fare  \\\n",
       "0  Air Asia      10 Oct   5h 55m    16:15           22:10       1 Stop  5,953   \n",
       "1  Air Asia      10 Oct   6h 00m    05:20           11:20       1 Stop  5,953   \n",
       "2  Air Asia      10 Oct   6h 35m    09:25           16:00       1 Stop  5,953   \n",
       "3  Air Asia      10 Oct  11h 45m    18:35  06:20\\n+ 1 day       1 Stop  5,953   \n",
       "4  Air Asia      10 Oct  14h 05m    16:15  06:20\\n+ 1 day       1 Stop  5,953   \n",
       "5  Air Asia      10 Oct  14h 10m    08:00           22:10       1 Stop  5,953   \n",
       "6  Go First      10 Oct   2h 05m    09:30           11:35     Non Stop  5,954   \n",
       "\n",
       "  day_of_travel Duration_in_hours  \n",
       "0     Wednesday                 5  \n",
       "1     Wednesday                 6  \n",
       "2     Wednesday                 6  \n",
       "3     Wednesday                11  \n",
       "4     Wednesday                14  \n",
       "5     Wednesday                14  \n",
       "6     Wednesday                 2  "
      ]
     },
     "execution_count": 44,
     "metadata": {},
     "output_type": "execute_result"
    }
   ],
   "source": [
    "temp_df.head(7)"
   ]
  },
  {
   "cell_type": "markdown",
   "id": "c237b718",
   "metadata": {},
   "source": [
    "**Now we can drop the original column `Duration` as we have extracted the hours for travelling from it and added it as new column `Duration_in_hours`.**"
   ]
  },
  {
   "cell_type": "code",
   "execution_count": 45,
   "id": "f3072572",
   "metadata": {},
   "outputs": [],
   "source": [
    "temp_df.drop('Duration',axis='columns',inplace=True)"
   ]
  },
  {
   "cell_type": "code",
   "execution_count": 46,
   "id": "cf1b9192",
   "metadata": {},
   "outputs": [
    {
     "data": {
      "text/html": [
       "<div>\n",
       "<style scoped>\n",
       "    .dataframe tbody tr th:only-of-type {\n",
       "        vertical-align: middle;\n",
       "    }\n",
       "\n",
       "    .dataframe tbody tr th {\n",
       "        vertical-align: top;\n",
       "    }\n",
       "\n",
       "    .dataframe thead th {\n",
       "        text-align: right;\n",
       "    }\n",
       "</style>\n",
       "<table border=\"1\" class=\"dataframe\">\n",
       "  <thead>\n",
       "    <tr style=\"text-align: right;\">\n",
       "      <th></th>\n",
       "      <th>Carrier</th>\n",
       "      <th>Travel Date</th>\n",
       "      <th>Dep-Time</th>\n",
       "      <th>Arrive-Time</th>\n",
       "      <th>No. of Stops</th>\n",
       "      <th>Fare</th>\n",
       "      <th>day_of_travel</th>\n",
       "      <th>Duration_in_hours</th>\n",
       "    </tr>\n",
       "  </thead>\n",
       "  <tbody>\n",
       "    <tr>\n",
       "      <th>0</th>\n",
       "      <td>Air Asia</td>\n",
       "      <td>10 Oct</td>\n",
       "      <td>16:15</td>\n",
       "      <td>22:10</td>\n",
       "      <td>1 Stop</td>\n",
       "      <td>5,953</td>\n",
       "      <td>Wednesday</td>\n",
       "      <td>5</td>\n",
       "    </tr>\n",
       "    <tr>\n",
       "      <th>1</th>\n",
       "      <td>Air Asia</td>\n",
       "      <td>10 Oct</td>\n",
       "      <td>05:20</td>\n",
       "      <td>11:20</td>\n",
       "      <td>1 Stop</td>\n",
       "      <td>5,953</td>\n",
       "      <td>Wednesday</td>\n",
       "      <td>6</td>\n",
       "    </tr>\n",
       "    <tr>\n",
       "      <th>2</th>\n",
       "      <td>Air Asia</td>\n",
       "      <td>10 Oct</td>\n",
       "      <td>09:25</td>\n",
       "      <td>16:00</td>\n",
       "      <td>1 Stop</td>\n",
       "      <td>5,953</td>\n",
       "      <td>Wednesday</td>\n",
       "      <td>6</td>\n",
       "    </tr>\n",
       "    <tr>\n",
       "      <th>3</th>\n",
       "      <td>Air Asia</td>\n",
       "      <td>10 Oct</td>\n",
       "      <td>18:35</td>\n",
       "      <td>06:20\\n+ 1 day</td>\n",
       "      <td>1 Stop</td>\n",
       "      <td>5,953</td>\n",
       "      <td>Wednesday</td>\n",
       "      <td>11</td>\n",
       "    </tr>\n",
       "    <tr>\n",
       "      <th>4</th>\n",
       "      <td>Air Asia</td>\n",
       "      <td>10 Oct</td>\n",
       "      <td>16:15</td>\n",
       "      <td>06:20\\n+ 1 day</td>\n",
       "      <td>1 Stop</td>\n",
       "      <td>5,953</td>\n",
       "      <td>Wednesday</td>\n",
       "      <td>14</td>\n",
       "    </tr>\n",
       "    <tr>\n",
       "      <th>5</th>\n",
       "      <td>Air Asia</td>\n",
       "      <td>10 Oct</td>\n",
       "      <td>08:00</td>\n",
       "      <td>22:10</td>\n",
       "      <td>1 Stop</td>\n",
       "      <td>5,953</td>\n",
       "      <td>Wednesday</td>\n",
       "      <td>14</td>\n",
       "    </tr>\n",
       "    <tr>\n",
       "      <th>6</th>\n",
       "      <td>Go First</td>\n",
       "      <td>10 Oct</td>\n",
       "      <td>09:30</td>\n",
       "      <td>11:35</td>\n",
       "      <td>Non Stop</td>\n",
       "      <td>5,954</td>\n",
       "      <td>Wednesday</td>\n",
       "      <td>2</td>\n",
       "    </tr>\n",
       "  </tbody>\n",
       "</table>\n",
       "</div>"
      ],
      "text/plain": [
       "    Carrier Travel Date Dep-Time     Arrive-Time No. of Stops   Fare  \\\n",
       "0  Air Asia      10 Oct    16:15           22:10       1 Stop  5,953   \n",
       "1  Air Asia      10 Oct    05:20           11:20       1 Stop  5,953   \n",
       "2  Air Asia      10 Oct    09:25           16:00       1 Stop  5,953   \n",
       "3  Air Asia      10 Oct    18:35  06:20\\n+ 1 day       1 Stop  5,953   \n",
       "4  Air Asia      10 Oct    16:15  06:20\\n+ 1 day       1 Stop  5,953   \n",
       "5  Air Asia      10 Oct    08:00           22:10       1 Stop  5,953   \n",
       "6  Go First      10 Oct    09:30           11:35     Non Stop  5,954   \n",
       "\n",
       "  day_of_travel Duration_in_hours  \n",
       "0     Wednesday                 5  \n",
       "1     Wednesday                 6  \n",
       "2     Wednesday                 6  \n",
       "3     Wednesday                11  \n",
       "4     Wednesday                14  \n",
       "5     Wednesday                14  \n",
       "6     Wednesday                 2  "
      ]
     },
     "execution_count": 46,
     "metadata": {},
     "output_type": "execute_result"
    }
   ],
   "source": [
    "temp_df.head(7)"
   ]
  },
  {
   "cell_type": "code",
   "execution_count": 47,
   "id": "88c0ac4e",
   "metadata": {},
   "outputs": [
    {
     "data": {
      "text/plain": [
       "dtype('O')"
      ]
     },
     "execution_count": 47,
     "metadata": {},
     "output_type": "execute_result"
    }
   ],
   "source": [
    "temp_df['Duration_in_hours'].dtypes"
   ]
  },
  {
   "cell_type": "markdown",
   "id": "64985267",
   "metadata": {},
   "source": [
    "**We will convert the `Duration_in_hours` into `numerical` type.**"
   ]
  },
  {
   "cell_type": "code",
   "execution_count": 48,
   "id": "739e6650",
   "metadata": {},
   "outputs": [],
   "source": [
    "temp_df['Duration_in_hours'] = pd.to_numeric(temp_df['Duration_in_hours'])"
   ]
  },
  {
   "cell_type": "code",
   "execution_count": 49,
   "id": "da10dbd5",
   "metadata": {},
   "outputs": [
    {
     "data": {
      "text/plain": [
       "dtype('int64')"
      ]
     },
     "execution_count": 49,
     "metadata": {},
     "output_type": "execute_result"
    }
   ],
   "source": [
    "temp_df['Duration_in_hours'].dtypes"
   ]
  },
  {
   "cell_type": "markdown",
   "id": "da272a5a",
   "metadata": {},
   "source": [
    "**We have successfully converted the datatype of `Duration_in_hours` feature to `int64`.**"
   ]
  },
  {
   "cell_type": "code",
   "execution_count": 50,
   "id": "d23ac784",
   "metadata": {},
   "outputs": [
    {
     "data": {
      "text/plain": [
       "'Dep-Time'"
      ]
     },
     "execution_count": 50,
     "metadata": {},
     "output_type": "execute_result"
    }
   ],
   "source": [
    "list_cols[5]"
   ]
  },
  {
   "cell_type": "markdown",
   "id": "306ce725",
   "metadata": {},
   "source": [
    "#### 6. 'Dep-Time'"
   ]
  },
  {
   "cell_type": "markdown",
   "id": "fc5cf0a2",
   "metadata": {},
   "source": [
    "**`Dep-Time` feature provides us information about the departure times of the flights.**"
   ]
  },
  {
   "cell_type": "code",
   "execution_count": 51,
   "id": "6f45ad9a",
   "metadata": {},
   "outputs": [
    {
     "data": {
      "text/plain": [
       "dtype('O')"
      ]
     },
     "execution_count": 51,
     "metadata": {},
     "output_type": "execute_result"
    }
   ],
   "source": [
    "temp_df['Dep-Time'].dtypes"
   ]
  },
  {
   "cell_type": "markdown",
   "id": "d17e3892",
   "metadata": {},
   "source": [
    "**This feature is present as `object` datatype.**"
   ]
  },
  {
   "cell_type": "code",
   "execution_count": 52,
   "id": "54b47849",
   "metadata": {},
   "outputs": [
    {
     "data": {
      "text/plain": [
       "08:10    123\n",
       "17:45    100\n",
       "08:00     87\n",
       "16:35     68\n",
       "08:55     64\n",
       "        ... \n",
       "12:15      1\n",
       "10:35      1\n",
       "15:00      1\n",
       "08:30      1\n",
       "05:35      1\n",
       "Name: Dep-Time, Length: 120, dtype: int64"
      ]
     },
     "execution_count": 52,
     "metadata": {},
     "output_type": "execute_result"
    }
   ],
   "source": [
    "temp_df['Dep-Time'].value_counts()"
   ]
  },
  {
   "cell_type": "markdown",
   "id": "64aaa041",
   "metadata": {},
   "source": [
    "**We will extract `Departure_hours` from `Depart-Time` feature and add it as a new column.**"
   ]
  },
  {
   "cell_type": "code",
   "execution_count": 53,
   "id": "7ca54a89",
   "metadata": {},
   "outputs": [],
   "source": [
    "temp_df['Depart_hours'] = ''\n",
    "for i in range(temp_df.shape[0]):\n",
    "    temp_df['Depart_hours'][i] = temp_df['Dep-Time'][i].split(':')[0]"
   ]
  },
  {
   "cell_type": "code",
   "execution_count": 54,
   "id": "7b69e0a1",
   "metadata": {},
   "outputs": [
    {
     "data": {
      "text/html": [
       "<div>\n",
       "<style scoped>\n",
       "    .dataframe tbody tr th:only-of-type {\n",
       "        vertical-align: middle;\n",
       "    }\n",
       "\n",
       "    .dataframe tbody tr th {\n",
       "        vertical-align: top;\n",
       "    }\n",
       "\n",
       "    .dataframe thead th {\n",
       "        text-align: right;\n",
       "    }\n",
       "</style>\n",
       "<table border=\"1\" class=\"dataframe\">\n",
       "  <thead>\n",
       "    <tr style=\"text-align: right;\">\n",
       "      <th></th>\n",
       "      <th>Carrier</th>\n",
       "      <th>Travel Date</th>\n",
       "      <th>Dep-Time</th>\n",
       "      <th>Arrive-Time</th>\n",
       "      <th>No. of Stops</th>\n",
       "      <th>Fare</th>\n",
       "      <th>day_of_travel</th>\n",
       "      <th>Duration_in_hours</th>\n",
       "      <th>Depart_hours</th>\n",
       "    </tr>\n",
       "  </thead>\n",
       "  <tbody>\n",
       "    <tr>\n",
       "      <th>0</th>\n",
       "      <td>Air Asia</td>\n",
       "      <td>10 Oct</td>\n",
       "      <td>16:15</td>\n",
       "      <td>22:10</td>\n",
       "      <td>1 Stop</td>\n",
       "      <td>5,953</td>\n",
       "      <td>Wednesday</td>\n",
       "      <td>5</td>\n",
       "      <td>16</td>\n",
       "    </tr>\n",
       "    <tr>\n",
       "      <th>1</th>\n",
       "      <td>Air Asia</td>\n",
       "      <td>10 Oct</td>\n",
       "      <td>05:20</td>\n",
       "      <td>11:20</td>\n",
       "      <td>1 Stop</td>\n",
       "      <td>5,953</td>\n",
       "      <td>Wednesday</td>\n",
       "      <td>6</td>\n",
       "      <td>05</td>\n",
       "    </tr>\n",
       "    <tr>\n",
       "      <th>2</th>\n",
       "      <td>Air Asia</td>\n",
       "      <td>10 Oct</td>\n",
       "      <td>09:25</td>\n",
       "      <td>16:00</td>\n",
       "      <td>1 Stop</td>\n",
       "      <td>5,953</td>\n",
       "      <td>Wednesday</td>\n",
       "      <td>6</td>\n",
       "      <td>09</td>\n",
       "    </tr>\n",
       "    <tr>\n",
       "      <th>3</th>\n",
       "      <td>Air Asia</td>\n",
       "      <td>10 Oct</td>\n",
       "      <td>18:35</td>\n",
       "      <td>06:20\\n+ 1 day</td>\n",
       "      <td>1 Stop</td>\n",
       "      <td>5,953</td>\n",
       "      <td>Wednesday</td>\n",
       "      <td>11</td>\n",
       "      <td>18</td>\n",
       "    </tr>\n",
       "    <tr>\n",
       "      <th>4</th>\n",
       "      <td>Air Asia</td>\n",
       "      <td>10 Oct</td>\n",
       "      <td>16:15</td>\n",
       "      <td>06:20\\n+ 1 day</td>\n",
       "      <td>1 Stop</td>\n",
       "      <td>5,953</td>\n",
       "      <td>Wednesday</td>\n",
       "      <td>14</td>\n",
       "      <td>16</td>\n",
       "    </tr>\n",
       "  </tbody>\n",
       "</table>\n",
       "</div>"
      ],
      "text/plain": [
       "    Carrier Travel Date Dep-Time     Arrive-Time No. of Stops   Fare  \\\n",
       "0  Air Asia      10 Oct    16:15           22:10       1 Stop  5,953   \n",
       "1  Air Asia      10 Oct    05:20           11:20       1 Stop  5,953   \n",
       "2  Air Asia      10 Oct    09:25           16:00       1 Stop  5,953   \n",
       "3  Air Asia      10 Oct    18:35  06:20\\n+ 1 day       1 Stop  5,953   \n",
       "4  Air Asia      10 Oct    16:15  06:20\\n+ 1 day       1 Stop  5,953   \n",
       "\n",
       "  day_of_travel  Duration_in_hours Depart_hours  \n",
       "0     Wednesday                  5           16  \n",
       "1     Wednesday                  6           05  \n",
       "2     Wednesday                  6           09  \n",
       "3     Wednesday                 11           18  \n",
       "4     Wednesday                 14           16  "
      ]
     },
     "execution_count": 54,
     "metadata": {},
     "output_type": "execute_result"
    }
   ],
   "source": [
    "temp_df.head(5)"
   ]
  },
  {
   "cell_type": "markdown",
   "id": "f6cd59e5",
   "metadata": {},
   "source": [
    "**Now we can drop the `Dep-Time` feature.**"
   ]
  },
  {
   "cell_type": "code",
   "execution_count": 55,
   "id": "6f944d01",
   "metadata": {},
   "outputs": [],
   "source": [
    "temp_df.drop('Dep-Time',axis='columns',inplace=True)"
   ]
  },
  {
   "cell_type": "code",
   "execution_count": 56,
   "id": "4fe817cb",
   "metadata": {},
   "outputs": [
    {
     "data": {
      "text/html": [
       "<div>\n",
       "<style scoped>\n",
       "    .dataframe tbody tr th:only-of-type {\n",
       "        vertical-align: middle;\n",
       "    }\n",
       "\n",
       "    .dataframe tbody tr th {\n",
       "        vertical-align: top;\n",
       "    }\n",
       "\n",
       "    .dataframe thead th {\n",
       "        text-align: right;\n",
       "    }\n",
       "</style>\n",
       "<table border=\"1\" class=\"dataframe\">\n",
       "  <thead>\n",
       "    <tr style=\"text-align: right;\">\n",
       "      <th></th>\n",
       "      <th>Carrier</th>\n",
       "      <th>Travel Date</th>\n",
       "      <th>Arrive-Time</th>\n",
       "      <th>No. of Stops</th>\n",
       "      <th>Fare</th>\n",
       "      <th>day_of_travel</th>\n",
       "      <th>Duration_in_hours</th>\n",
       "      <th>Depart_hours</th>\n",
       "    </tr>\n",
       "  </thead>\n",
       "  <tbody>\n",
       "    <tr>\n",
       "      <th>0</th>\n",
       "      <td>Air Asia</td>\n",
       "      <td>10 Oct</td>\n",
       "      <td>22:10</td>\n",
       "      <td>1 Stop</td>\n",
       "      <td>5,953</td>\n",
       "      <td>Wednesday</td>\n",
       "      <td>5</td>\n",
       "      <td>16</td>\n",
       "    </tr>\n",
       "    <tr>\n",
       "      <th>1</th>\n",
       "      <td>Air Asia</td>\n",
       "      <td>10 Oct</td>\n",
       "      <td>11:20</td>\n",
       "      <td>1 Stop</td>\n",
       "      <td>5,953</td>\n",
       "      <td>Wednesday</td>\n",
       "      <td>6</td>\n",
       "      <td>05</td>\n",
       "    </tr>\n",
       "    <tr>\n",
       "      <th>2</th>\n",
       "      <td>Air Asia</td>\n",
       "      <td>10 Oct</td>\n",
       "      <td>16:00</td>\n",
       "      <td>1 Stop</td>\n",
       "      <td>5,953</td>\n",
       "      <td>Wednesday</td>\n",
       "      <td>6</td>\n",
       "      <td>09</td>\n",
       "    </tr>\n",
       "    <tr>\n",
       "      <th>3</th>\n",
       "      <td>Air Asia</td>\n",
       "      <td>10 Oct</td>\n",
       "      <td>06:20\\n+ 1 day</td>\n",
       "      <td>1 Stop</td>\n",
       "      <td>5,953</td>\n",
       "      <td>Wednesday</td>\n",
       "      <td>11</td>\n",
       "      <td>18</td>\n",
       "    </tr>\n",
       "    <tr>\n",
       "      <th>4</th>\n",
       "      <td>Air Asia</td>\n",
       "      <td>10 Oct</td>\n",
       "      <td>06:20\\n+ 1 day</td>\n",
       "      <td>1 Stop</td>\n",
       "      <td>5,953</td>\n",
       "      <td>Wednesday</td>\n",
       "      <td>14</td>\n",
       "      <td>16</td>\n",
       "    </tr>\n",
       "  </tbody>\n",
       "</table>\n",
       "</div>"
      ],
      "text/plain": [
       "    Carrier Travel Date     Arrive-Time No. of Stops   Fare day_of_travel  \\\n",
       "0  Air Asia      10 Oct           22:10       1 Stop  5,953     Wednesday   \n",
       "1  Air Asia      10 Oct           11:20       1 Stop  5,953     Wednesday   \n",
       "2  Air Asia      10 Oct           16:00       1 Stop  5,953     Wednesday   \n",
       "3  Air Asia      10 Oct  06:20\\n+ 1 day       1 Stop  5,953     Wednesday   \n",
       "4  Air Asia      10 Oct  06:20\\n+ 1 day       1 Stop  5,953     Wednesday   \n",
       "\n",
       "   Duration_in_hours Depart_hours  \n",
       "0                  5           16  \n",
       "1                  6           05  \n",
       "2                  6           09  \n",
       "3                 11           18  \n",
       "4                 14           16  "
      ]
     },
     "execution_count": 56,
     "metadata": {},
     "output_type": "execute_result"
    }
   ],
   "source": [
    "temp_df.head(5)"
   ]
  },
  {
   "cell_type": "code",
   "execution_count": 57,
   "id": "72ea3bed",
   "metadata": {},
   "outputs": [
    {
     "data": {
      "text/plain": [
       "dtype('O')"
      ]
     },
     "execution_count": 57,
     "metadata": {},
     "output_type": "execute_result"
    }
   ],
   "source": [
    "temp_df['Depart_hours'].dtypes"
   ]
  },
  {
   "cell_type": "markdown",
   "id": "fdd9daa0",
   "metadata": {},
   "source": [
    "**We will convert `Depart_hours` from `object` type to `numerical` type for better handling.**"
   ]
  },
  {
   "cell_type": "code",
   "execution_count": 58,
   "id": "6a4fbc3d",
   "metadata": {},
   "outputs": [],
   "source": [
    "temp_df['Depart_hours'] = pd.to_numeric(temp_df['Depart_hours'])"
   ]
  },
  {
   "cell_type": "code",
   "execution_count": 59,
   "id": "7d9261d3",
   "metadata": {},
   "outputs": [
    {
     "data": {
      "text/plain": [
       "dtype('int64')"
      ]
     },
     "execution_count": 59,
     "metadata": {},
     "output_type": "execute_result"
    }
   ],
   "source": [
    "temp_df['Depart_hours'].dtypes"
   ]
  },
  {
   "cell_type": "markdown",
   "id": "88013d28",
   "metadata": {},
   "source": [
    "**We have successfully converted the datatype of `Depart_hours` feature to `int64`.**"
   ]
  },
  {
   "cell_type": "code",
   "execution_count": 60,
   "id": "9b6952dc",
   "metadata": {},
   "outputs": [
    {
     "data": {
      "text/plain": [
       "'Arrive-Time'"
      ]
     },
     "execution_count": 60,
     "metadata": {},
     "output_type": "execute_result"
    }
   ],
   "source": [
    "list_cols[6]"
   ]
  },
  {
   "cell_type": "markdown",
   "id": "81aad727",
   "metadata": {},
   "source": [
    "#### 7.'Arrive-Time'"
   ]
  },
  {
   "cell_type": "markdown",
   "id": "e8dd9cf9",
   "metadata": {},
   "source": [
    "**`Arrive-Time` feature provides us the information about the arrival time of the flights.**"
   ]
  },
  {
   "cell_type": "code",
   "execution_count": 61,
   "id": "aa8566e2",
   "metadata": {},
   "outputs": [
    {
     "data": {
      "text/plain": [
       "dtype('O')"
      ]
     },
     "execution_count": 61,
     "metadata": {},
     "output_type": "execute_result"
    }
   ],
   "source": [
    "temp_df['Arrive-Time'].dtypes"
   ]
  },
  {
   "cell_type": "markdown",
   "id": "9087f4a1",
   "metadata": {},
   "source": [
    "**This feature data is in `object` datatype.**"
   ]
  },
  {
   "cell_type": "code",
   "execution_count": 62,
   "id": "fb596d3b",
   "metadata": {},
   "outputs": [
    {
     "data": {
      "text/plain": [
       "23:00             101\n",
       "10:40\\n+ 1 day     88\n",
       "18:15              73\n",
       "09:40\\n+ 1 day     72\n",
       "22:35              71\n",
       "                 ... \n",
       "10:45               1\n",
       "09:25               1\n",
       "15:20               1\n",
       "11:50\\n+ 1 day      1\n",
       "19:45               1\n",
       "Name: Arrive-Time, Length: 142, dtype: int64"
      ]
     },
     "execution_count": 62,
     "metadata": {},
     "output_type": "execute_result"
    }
   ],
   "source": [
    "temp_df['Arrive-Time'].value_counts()"
   ]
  },
  {
   "cell_type": "markdown",
   "id": "7655d1e0",
   "metadata": {},
   "source": [
    "**We will extract the `Arrival hour` from the `Arrive-Time` feature.**"
   ]
  },
  {
   "cell_type": "code",
   "execution_count": 63,
   "id": "30f2986c",
   "metadata": {},
   "outputs": [],
   "source": [
    "temp_df['Arrive_hours'] = ''\n",
    "for i in range(temp_df.shape[0]):\n",
    "    temp_df['Arrive_hours'][i] = temp_df['Arrive-Time'][i].split(':')[0]"
   ]
  },
  {
   "cell_type": "code",
   "execution_count": 64,
   "id": "d613706e",
   "metadata": {},
   "outputs": [
    {
     "data": {
      "text/html": [
       "<div>\n",
       "<style scoped>\n",
       "    .dataframe tbody tr th:only-of-type {\n",
       "        vertical-align: middle;\n",
       "    }\n",
       "\n",
       "    .dataframe tbody tr th {\n",
       "        vertical-align: top;\n",
       "    }\n",
       "\n",
       "    .dataframe thead th {\n",
       "        text-align: right;\n",
       "    }\n",
       "</style>\n",
       "<table border=\"1\" class=\"dataframe\">\n",
       "  <thead>\n",
       "    <tr style=\"text-align: right;\">\n",
       "      <th></th>\n",
       "      <th>Carrier</th>\n",
       "      <th>Travel Date</th>\n",
       "      <th>Arrive-Time</th>\n",
       "      <th>No. of Stops</th>\n",
       "      <th>Fare</th>\n",
       "      <th>day_of_travel</th>\n",
       "      <th>Duration_in_hours</th>\n",
       "      <th>Depart_hours</th>\n",
       "      <th>Arrive_hours</th>\n",
       "    </tr>\n",
       "  </thead>\n",
       "  <tbody>\n",
       "    <tr>\n",
       "      <th>0</th>\n",
       "      <td>Air Asia</td>\n",
       "      <td>10 Oct</td>\n",
       "      <td>22:10</td>\n",
       "      <td>1 Stop</td>\n",
       "      <td>5,953</td>\n",
       "      <td>Wednesday</td>\n",
       "      <td>5</td>\n",
       "      <td>16</td>\n",
       "      <td>22</td>\n",
       "    </tr>\n",
       "    <tr>\n",
       "      <th>1</th>\n",
       "      <td>Air Asia</td>\n",
       "      <td>10 Oct</td>\n",
       "      <td>11:20</td>\n",
       "      <td>1 Stop</td>\n",
       "      <td>5,953</td>\n",
       "      <td>Wednesday</td>\n",
       "      <td>6</td>\n",
       "      <td>5</td>\n",
       "      <td>11</td>\n",
       "    </tr>\n",
       "    <tr>\n",
       "      <th>2</th>\n",
       "      <td>Air Asia</td>\n",
       "      <td>10 Oct</td>\n",
       "      <td>16:00</td>\n",
       "      <td>1 Stop</td>\n",
       "      <td>5,953</td>\n",
       "      <td>Wednesday</td>\n",
       "      <td>6</td>\n",
       "      <td>9</td>\n",
       "      <td>16</td>\n",
       "    </tr>\n",
       "    <tr>\n",
       "      <th>3</th>\n",
       "      <td>Air Asia</td>\n",
       "      <td>10 Oct</td>\n",
       "      <td>06:20\\n+ 1 day</td>\n",
       "      <td>1 Stop</td>\n",
       "      <td>5,953</td>\n",
       "      <td>Wednesday</td>\n",
       "      <td>11</td>\n",
       "      <td>18</td>\n",
       "      <td>06</td>\n",
       "    </tr>\n",
       "    <tr>\n",
       "      <th>4</th>\n",
       "      <td>Air Asia</td>\n",
       "      <td>10 Oct</td>\n",
       "      <td>06:20\\n+ 1 day</td>\n",
       "      <td>1 Stop</td>\n",
       "      <td>5,953</td>\n",
       "      <td>Wednesday</td>\n",
       "      <td>14</td>\n",
       "      <td>16</td>\n",
       "      <td>06</td>\n",
       "    </tr>\n",
       "  </tbody>\n",
       "</table>\n",
       "</div>"
      ],
      "text/plain": [
       "    Carrier Travel Date     Arrive-Time No. of Stops   Fare day_of_travel  \\\n",
       "0  Air Asia      10 Oct           22:10       1 Stop  5,953     Wednesday   \n",
       "1  Air Asia      10 Oct           11:20       1 Stop  5,953     Wednesday   \n",
       "2  Air Asia      10 Oct           16:00       1 Stop  5,953     Wednesday   \n",
       "3  Air Asia      10 Oct  06:20\\n+ 1 day       1 Stop  5,953     Wednesday   \n",
       "4  Air Asia      10 Oct  06:20\\n+ 1 day       1 Stop  5,953     Wednesday   \n",
       "\n",
       "   Duration_in_hours  Depart_hours Arrive_hours  \n",
       "0                  5            16           22  \n",
       "1                  6             5           11  \n",
       "2                  6             9           16  \n",
       "3                 11            18           06  \n",
       "4                 14            16           06  "
      ]
     },
     "execution_count": 64,
     "metadata": {},
     "output_type": "execute_result"
    }
   ],
   "source": [
    "temp_df.head(5)"
   ]
  },
  {
   "cell_type": "markdown",
   "id": "2515fe21",
   "metadata": {},
   "source": [
    "**Now we can drop the `Arrive-Time` feature.**"
   ]
  },
  {
   "cell_type": "code",
   "execution_count": 65,
   "id": "50256f1c",
   "metadata": {},
   "outputs": [],
   "source": [
    "temp_df.drop('Arrive-Time',axis='columns',inplace=True)"
   ]
  },
  {
   "cell_type": "code",
   "execution_count": 66,
   "id": "6af9ef6e",
   "metadata": {},
   "outputs": [
    {
     "data": {
      "text/html": [
       "<div>\n",
       "<style scoped>\n",
       "    .dataframe tbody tr th:only-of-type {\n",
       "        vertical-align: middle;\n",
       "    }\n",
       "\n",
       "    .dataframe tbody tr th {\n",
       "        vertical-align: top;\n",
       "    }\n",
       "\n",
       "    .dataframe thead th {\n",
       "        text-align: right;\n",
       "    }\n",
       "</style>\n",
       "<table border=\"1\" class=\"dataframe\">\n",
       "  <thead>\n",
       "    <tr style=\"text-align: right;\">\n",
       "      <th></th>\n",
       "      <th>Carrier</th>\n",
       "      <th>Travel Date</th>\n",
       "      <th>No. of Stops</th>\n",
       "      <th>Fare</th>\n",
       "      <th>day_of_travel</th>\n",
       "      <th>Duration_in_hours</th>\n",
       "      <th>Depart_hours</th>\n",
       "      <th>Arrive_hours</th>\n",
       "    </tr>\n",
       "  </thead>\n",
       "  <tbody>\n",
       "    <tr>\n",
       "      <th>0</th>\n",
       "      <td>Air Asia</td>\n",
       "      <td>10 Oct</td>\n",
       "      <td>1 Stop</td>\n",
       "      <td>5,953</td>\n",
       "      <td>Wednesday</td>\n",
       "      <td>5</td>\n",
       "      <td>16</td>\n",
       "      <td>22</td>\n",
       "    </tr>\n",
       "    <tr>\n",
       "      <th>1</th>\n",
       "      <td>Air Asia</td>\n",
       "      <td>10 Oct</td>\n",
       "      <td>1 Stop</td>\n",
       "      <td>5,953</td>\n",
       "      <td>Wednesday</td>\n",
       "      <td>6</td>\n",
       "      <td>5</td>\n",
       "      <td>11</td>\n",
       "    </tr>\n",
       "    <tr>\n",
       "      <th>2</th>\n",
       "      <td>Air Asia</td>\n",
       "      <td>10 Oct</td>\n",
       "      <td>1 Stop</td>\n",
       "      <td>5,953</td>\n",
       "      <td>Wednesday</td>\n",
       "      <td>6</td>\n",
       "      <td>9</td>\n",
       "      <td>16</td>\n",
       "    </tr>\n",
       "  </tbody>\n",
       "</table>\n",
       "</div>"
      ],
      "text/plain": [
       "    Carrier Travel Date No. of Stops   Fare day_of_travel  Duration_in_hours  \\\n",
       "0  Air Asia      10 Oct       1 Stop  5,953     Wednesday                  5   \n",
       "1  Air Asia      10 Oct       1 Stop  5,953     Wednesday                  6   \n",
       "2  Air Asia      10 Oct       1 Stop  5,953     Wednesday                  6   \n",
       "\n",
       "   Depart_hours Arrive_hours  \n",
       "0            16           22  \n",
       "1             5           11  \n",
       "2             9           16  "
      ]
     },
     "execution_count": 66,
     "metadata": {},
     "output_type": "execute_result"
    }
   ],
   "source": [
    "temp_df.head(3)"
   ]
  },
  {
   "cell_type": "code",
   "execution_count": 67,
   "id": "e27dbb43",
   "metadata": {},
   "outputs": [
    {
     "data": {
      "text/plain": [
       "dtype('O')"
      ]
     },
     "execution_count": 67,
     "metadata": {},
     "output_type": "execute_result"
    }
   ],
   "source": [
    "temp_df['Arrive_hours'].dtypes"
   ]
  },
  {
   "cell_type": "markdown",
   "id": "75cfa880",
   "metadata": {},
   "source": [
    "**We will convert the `Arrive_hours` datatype from `object` type to `numerical` type.**"
   ]
  },
  {
   "cell_type": "code",
   "execution_count": 68,
   "id": "2397f7fb",
   "metadata": {},
   "outputs": [],
   "source": [
    "temp_df['Arrive_hours'] = pd.to_numeric(temp_df['Arrive_hours'])"
   ]
  },
  {
   "cell_type": "code",
   "execution_count": 69,
   "id": "3aa9db63",
   "metadata": {},
   "outputs": [
    {
     "data": {
      "text/plain": [
       "dtype('int64')"
      ]
     },
     "execution_count": 69,
     "metadata": {},
     "output_type": "execute_result"
    }
   ],
   "source": [
    "temp_df['Arrive_hours'].dtypes"
   ]
  },
  {
   "cell_type": "markdown",
   "id": "1c746271",
   "metadata": {},
   "source": [
    "**We have successfully converted the datatype of `Arrive_hours` feature to `int64`.**"
   ]
  },
  {
   "cell_type": "code",
   "execution_count": 70,
   "id": "371f11f0",
   "metadata": {},
   "outputs": [
    {
     "data": {
      "text/plain": [
       "'No. of Stops'"
      ]
     },
     "execution_count": 70,
     "metadata": {},
     "output_type": "execute_result"
    }
   ],
   "source": [
    "list_cols[7]"
   ]
  },
  {
   "cell_type": "markdown",
   "id": "c48cf0d1",
   "metadata": {},
   "source": [
    "#### 8. 'No. of Stops'"
   ]
  },
  {
   "cell_type": "markdown",
   "id": "55f71844",
   "metadata": {},
   "source": [
    "**`No. of Stops` feature gives us information about the number of stops.**"
   ]
  },
  {
   "cell_type": "code",
   "execution_count": 71,
   "id": "10511135",
   "metadata": {},
   "outputs": [
    {
     "data": {
      "text/plain": [
       "dtype('O')"
      ]
     },
     "execution_count": 71,
     "metadata": {},
     "output_type": "execute_result"
    }
   ],
   "source": [
    "temp_df['No. of Stops'].dtypes"
   ]
  },
  {
   "cell_type": "markdown",
   "id": "05585e7c",
   "metadata": {},
   "source": [
    "**This feature is `object` datatype.**"
   ]
  },
  {
   "cell_type": "code",
   "execution_count": 72,
   "id": "5c2d845d",
   "metadata": {},
   "outputs": [
    {
     "data": {
      "text/plain": [
       "1 Stop       1852\n",
       "Non Stop      801\n",
       "2 Stop(s)      71\n",
       "3 Stop(s)       8\n",
       "Name: No. of Stops, dtype: int64"
      ]
     },
     "execution_count": 72,
     "metadata": {},
     "output_type": "execute_result"
    }
   ],
   "source": [
    "temp_df['No. of Stops'].value_counts()"
   ]
  },
  {
   "cell_type": "markdown",
   "id": "d3df9846",
   "metadata": {},
   "source": [
    "**We will try to make this feature `numerical` type. We will convert :**\n",
    "    \n",
    "    `1. 1 Stop ==> 1`\n",
    "    \n",
    "    `2. Non Stop ==> 0`\n",
    "    \n",
    "    `3. 2 Stop(s) ==> 2`\n",
    "    \n",
    "    `4. 3 Stop(s) ==> 3`"
   ]
  },
  {
   "cell_type": "code",
   "execution_count": 73,
   "id": "958e170f",
   "metadata": {},
   "outputs": [],
   "source": [
    "stop_values = temp_df['No. of Stops'].unique()"
   ]
  },
  {
   "cell_type": "code",
   "execution_count": 74,
   "id": "6e47cecc",
   "metadata": {},
   "outputs": [
    {
     "name": "stdout",
     "output_type": "stream",
     "text": [
      "['1 Stop', 'Non Stop', '2 Stop(s)', '3 Stop(s)']\n"
     ]
    }
   ],
   "source": [
    "print([i for i in stop_values])"
   ]
  },
  {
   "cell_type": "code",
   "execution_count": 75,
   "id": "8be4ce3f",
   "metadata": {},
   "outputs": [],
   "source": [
    "temp_df['stops'] = ''\n",
    "for i in range(temp_df.shape[0]):\n",
    "    if temp_df['No. of Stops'][i] == stop_values[0]:\n",
    "        temp_df['stops'][i] = 1\n",
    "    elif temp_df['No. of Stops'][i] == stop_values[2]:\n",
    "        temp_df['stops'][i] = 2\n",
    "    elif temp_df['No. of Stops'][i] == stop_values[3]:\n",
    "        temp_df['stops'][i] = 3\n",
    "    elif temp_df['No. of Stops'][i] == stop_values[1]:\n",
    "        temp_df['stops'][i] = 0"
   ]
  },
  {
   "cell_type": "code",
   "execution_count": 76,
   "id": "1ebc3e35",
   "metadata": {},
   "outputs": [
    {
     "data": {
      "text/html": [
       "<div>\n",
       "<style scoped>\n",
       "    .dataframe tbody tr th:only-of-type {\n",
       "        vertical-align: middle;\n",
       "    }\n",
       "\n",
       "    .dataframe tbody tr th {\n",
       "        vertical-align: top;\n",
       "    }\n",
       "\n",
       "    .dataframe thead th {\n",
       "        text-align: right;\n",
       "    }\n",
       "</style>\n",
       "<table border=\"1\" class=\"dataframe\">\n",
       "  <thead>\n",
       "    <tr style=\"text-align: right;\">\n",
       "      <th></th>\n",
       "      <th>Carrier</th>\n",
       "      <th>Travel Date</th>\n",
       "      <th>No. of Stops</th>\n",
       "      <th>Fare</th>\n",
       "      <th>day_of_travel</th>\n",
       "      <th>Duration_in_hours</th>\n",
       "      <th>Depart_hours</th>\n",
       "      <th>Arrive_hours</th>\n",
       "      <th>stops</th>\n",
       "    </tr>\n",
       "  </thead>\n",
       "  <tbody>\n",
       "    <tr>\n",
       "      <th>0</th>\n",
       "      <td>Air Asia</td>\n",
       "      <td>10 Oct</td>\n",
       "      <td>1 Stop</td>\n",
       "      <td>5,953</td>\n",
       "      <td>Wednesday</td>\n",
       "      <td>5</td>\n",
       "      <td>16</td>\n",
       "      <td>22</td>\n",
       "      <td>1</td>\n",
       "    </tr>\n",
       "    <tr>\n",
       "      <th>1</th>\n",
       "      <td>Air Asia</td>\n",
       "      <td>10 Oct</td>\n",
       "      <td>1 Stop</td>\n",
       "      <td>5,953</td>\n",
       "      <td>Wednesday</td>\n",
       "      <td>6</td>\n",
       "      <td>5</td>\n",
       "      <td>11</td>\n",
       "      <td>1</td>\n",
       "    </tr>\n",
       "    <tr>\n",
       "      <th>2</th>\n",
       "      <td>Air Asia</td>\n",
       "      <td>10 Oct</td>\n",
       "      <td>1 Stop</td>\n",
       "      <td>5,953</td>\n",
       "      <td>Wednesday</td>\n",
       "      <td>6</td>\n",
       "      <td>9</td>\n",
       "      <td>16</td>\n",
       "      <td>1</td>\n",
       "    </tr>\n",
       "    <tr>\n",
       "      <th>3</th>\n",
       "      <td>Air Asia</td>\n",
       "      <td>10 Oct</td>\n",
       "      <td>1 Stop</td>\n",
       "      <td>5,953</td>\n",
       "      <td>Wednesday</td>\n",
       "      <td>11</td>\n",
       "      <td>18</td>\n",
       "      <td>6</td>\n",
       "      <td>1</td>\n",
       "    </tr>\n",
       "    <tr>\n",
       "      <th>4</th>\n",
       "      <td>Air Asia</td>\n",
       "      <td>10 Oct</td>\n",
       "      <td>1 Stop</td>\n",
       "      <td>5,953</td>\n",
       "      <td>Wednesday</td>\n",
       "      <td>14</td>\n",
       "      <td>16</td>\n",
       "      <td>6</td>\n",
       "      <td>1</td>\n",
       "    </tr>\n",
       "  </tbody>\n",
       "</table>\n",
       "</div>"
      ],
      "text/plain": [
       "    Carrier Travel Date No. of Stops   Fare day_of_travel  Duration_in_hours  \\\n",
       "0  Air Asia      10 Oct       1 Stop  5,953     Wednesday                  5   \n",
       "1  Air Asia      10 Oct       1 Stop  5,953     Wednesday                  6   \n",
       "2  Air Asia      10 Oct       1 Stop  5,953     Wednesday                  6   \n",
       "3  Air Asia      10 Oct       1 Stop  5,953     Wednesday                 11   \n",
       "4  Air Asia      10 Oct       1 Stop  5,953     Wednesday                 14   \n",
       "\n",
       "   Depart_hours  Arrive_hours stops  \n",
       "0            16            22     1  \n",
       "1             5            11     1  \n",
       "2             9            16     1  \n",
       "3            18             6     1  \n",
       "4            16             6     1  "
      ]
     },
     "execution_count": 76,
     "metadata": {},
     "output_type": "execute_result"
    }
   ],
   "source": [
    "temp_df.head(5)"
   ]
  },
  {
   "cell_type": "code",
   "execution_count": 77,
   "id": "1cc79cf7",
   "metadata": {},
   "outputs": [
    {
     "data": {
      "text/plain": [
       "1    1852\n",
       "0     801\n",
       "2      71\n",
       "3       8\n",
       "Name: stops, dtype: int64"
      ]
     },
     "execution_count": 77,
     "metadata": {},
     "output_type": "execute_result"
    }
   ],
   "source": [
    "temp_df['stops'].value_counts()"
   ]
  },
  {
   "cell_type": "markdown",
   "id": "c0621ec8",
   "metadata": {},
   "source": [
    "**As we have extracted the data from `No. of Stops` feature and added it as `numerical type` feature `stops`.So we can remove the original `No. of Stops` column.**"
   ]
  },
  {
   "cell_type": "code",
   "execution_count": 78,
   "id": "12df26c2",
   "metadata": {},
   "outputs": [],
   "source": [
    "temp_df.drop('No. of Stops',axis='columns',inplace=True)"
   ]
  },
  {
   "cell_type": "code",
   "execution_count": 79,
   "id": "e4ae03c5",
   "metadata": {},
   "outputs": [
    {
     "data": {
      "text/html": [
       "<div>\n",
       "<style scoped>\n",
       "    .dataframe tbody tr th:only-of-type {\n",
       "        vertical-align: middle;\n",
       "    }\n",
       "\n",
       "    .dataframe tbody tr th {\n",
       "        vertical-align: top;\n",
       "    }\n",
       "\n",
       "    .dataframe thead th {\n",
       "        text-align: right;\n",
       "    }\n",
       "</style>\n",
       "<table border=\"1\" class=\"dataframe\">\n",
       "  <thead>\n",
       "    <tr style=\"text-align: right;\">\n",
       "      <th></th>\n",
       "      <th>Carrier</th>\n",
       "      <th>Travel Date</th>\n",
       "      <th>Fare</th>\n",
       "      <th>day_of_travel</th>\n",
       "      <th>Duration_in_hours</th>\n",
       "      <th>Depart_hours</th>\n",
       "      <th>Arrive_hours</th>\n",
       "      <th>stops</th>\n",
       "    </tr>\n",
       "  </thead>\n",
       "  <tbody>\n",
       "    <tr>\n",
       "      <th>0</th>\n",
       "      <td>Air Asia</td>\n",
       "      <td>10 Oct</td>\n",
       "      <td>5,953</td>\n",
       "      <td>Wednesday</td>\n",
       "      <td>5</td>\n",
       "      <td>16</td>\n",
       "      <td>22</td>\n",
       "      <td>1</td>\n",
       "    </tr>\n",
       "    <tr>\n",
       "      <th>1</th>\n",
       "      <td>Air Asia</td>\n",
       "      <td>10 Oct</td>\n",
       "      <td>5,953</td>\n",
       "      <td>Wednesday</td>\n",
       "      <td>6</td>\n",
       "      <td>5</td>\n",
       "      <td>11</td>\n",
       "      <td>1</td>\n",
       "    </tr>\n",
       "    <tr>\n",
       "      <th>2</th>\n",
       "      <td>Air Asia</td>\n",
       "      <td>10 Oct</td>\n",
       "      <td>5,953</td>\n",
       "      <td>Wednesday</td>\n",
       "      <td>6</td>\n",
       "      <td>9</td>\n",
       "      <td>16</td>\n",
       "      <td>1</td>\n",
       "    </tr>\n",
       "    <tr>\n",
       "      <th>3</th>\n",
       "      <td>Air Asia</td>\n",
       "      <td>10 Oct</td>\n",
       "      <td>5,953</td>\n",
       "      <td>Wednesday</td>\n",
       "      <td>11</td>\n",
       "      <td>18</td>\n",
       "      <td>6</td>\n",
       "      <td>1</td>\n",
       "    </tr>\n",
       "    <tr>\n",
       "      <th>4</th>\n",
       "      <td>Air Asia</td>\n",
       "      <td>10 Oct</td>\n",
       "      <td>5,953</td>\n",
       "      <td>Wednesday</td>\n",
       "      <td>14</td>\n",
       "      <td>16</td>\n",
       "      <td>6</td>\n",
       "      <td>1</td>\n",
       "    </tr>\n",
       "  </tbody>\n",
       "</table>\n",
       "</div>"
      ],
      "text/plain": [
       "    Carrier Travel Date   Fare day_of_travel  Duration_in_hours  Depart_hours  \\\n",
       "0  Air Asia      10 Oct  5,953     Wednesday                  5            16   \n",
       "1  Air Asia      10 Oct  5,953     Wednesday                  6             5   \n",
       "2  Air Asia      10 Oct  5,953     Wednesday                  6             9   \n",
       "3  Air Asia      10 Oct  5,953     Wednesday                 11            18   \n",
       "4  Air Asia      10 Oct  5,953     Wednesday                 14            16   \n",
       "\n",
       "   Arrive_hours stops  \n",
       "0            22     1  \n",
       "1            11     1  \n",
       "2            16     1  \n",
       "3             6     1  \n",
       "4             6     1  "
      ]
     },
     "execution_count": 79,
     "metadata": {},
     "output_type": "execute_result"
    }
   ],
   "source": [
    "temp_df.head(5)"
   ]
  },
  {
   "cell_type": "code",
   "execution_count": 80,
   "id": "6dba1d3f",
   "metadata": {},
   "outputs": [
    {
     "data": {
      "text/plain": [
       "'Fare'"
      ]
     },
     "execution_count": 80,
     "metadata": {},
     "output_type": "execute_result"
    }
   ],
   "source": [
    "list_cols[8]"
   ]
  },
  {
   "cell_type": "markdown",
   "id": "a31f4964",
   "metadata": {},
   "source": [
    "#### 9. Fare"
   ]
  },
  {
   "cell_type": "markdown",
   "id": "203668a7",
   "metadata": {},
   "source": [
    "**`Fare` feature provides us the information about the travel fare.**"
   ]
  },
  {
   "cell_type": "code",
   "execution_count": 81,
   "id": "0a0308d3",
   "metadata": {},
   "outputs": [
    {
     "data": {
      "text/plain": [
       "dtype('O')"
      ]
     },
     "execution_count": 81,
     "metadata": {},
     "output_type": "execute_result"
    }
   ],
   "source": [
    "temp_df['Fare'].dtypes"
   ]
  },
  {
   "cell_type": "markdown",
   "id": "c38484cb",
   "metadata": {},
   "source": [
    "**We see that `Fare` feature is in `object` datatype, so we will convert it to `numeric` datatype for better analysis.**"
   ]
  },
  {
   "cell_type": "code",
   "execution_count": 82,
   "id": "dec6dfd1",
   "metadata": {},
   "outputs": [
    {
     "data": {
      "text/plain": [
       "5,955     766\n",
       "5,954     220\n",
       "9,840     169\n",
       "5,953     130\n",
       "8,895      56\n",
       "         ... \n",
       "21,601      1\n",
       "9,358       1\n",
       "9,893       1\n",
       "11,248      1\n",
       "13,291      1\n",
       "Name: Fare, Length: 302, dtype: int64"
      ]
     },
     "execution_count": 82,
     "metadata": {},
     "output_type": "execute_result"
    }
   ],
   "source": [
    "temp_df['Fare'].value_counts()"
   ]
  },
  {
   "cell_type": "markdown",
   "id": "7c6d0022",
   "metadata": {},
   "source": [
    "**To convert these values into numeric format, we will first try to remove the `commas` present with the Fare values.**"
   ]
  },
  {
   "cell_type": "code",
   "execution_count": 83,
   "id": "0ebc2ba8",
   "metadata": {},
   "outputs": [],
   "source": [
    "for i in range(temp_df.shape[0]):\n",
    "    temp_df['Fare'][i] = temp_df['Fare'][i].replace(',','')"
   ]
  },
  {
   "cell_type": "code",
   "execution_count": 84,
   "id": "1ddf861b",
   "metadata": {},
   "outputs": [
    {
     "data": {
      "text/plain": [
       "5955     766\n",
       "5954     220\n",
       "9840     169\n",
       "5953     130\n",
       "8895      56\n",
       "        ... \n",
       "21601      1\n",
       "9358       1\n",
       "9893       1\n",
       "11248      1\n",
       "13291      1\n",
       "Name: Fare, Length: 302, dtype: int64"
      ]
     },
     "execution_count": 84,
     "metadata": {},
     "output_type": "execute_result"
    }
   ],
   "source": [
    "temp_df['Fare'].value_counts()"
   ]
  },
  {
   "cell_type": "code",
   "execution_count": 85,
   "id": "6c7c5f22",
   "metadata": {},
   "outputs": [],
   "source": [
    "temp_df['Fare'] = pd.to_numeric(temp_df['Fare'])"
   ]
  },
  {
   "cell_type": "code",
   "execution_count": 86,
   "id": "efe88d18",
   "metadata": {},
   "outputs": [
    {
     "data": {
      "text/plain": [
       "dtype('int64')"
      ]
     },
     "execution_count": 86,
     "metadata": {},
     "output_type": "execute_result"
    }
   ],
   "source": [
    "temp_df['Fare'].dtypes"
   ]
  },
  {
   "cell_type": "code",
   "execution_count": 87,
   "id": "9d676391",
   "metadata": {},
   "outputs": [
    {
     "data": {
      "text/plain": [
       "count     2732.000000\n",
       "mean      8291.143119\n",
       "std       3125.710527\n",
       "min       4931.000000\n",
       "25%       5955.000000\n",
       "50%       6585.000000\n",
       "75%       9840.000000\n",
       "max      31337.000000\n",
       "Name: Fare, dtype: float64"
      ]
     },
     "execution_count": 87,
     "metadata": {},
     "output_type": "execute_result"
    }
   ],
   "source": [
    "temp_df['Fare'].describe()"
   ]
  },
  {
   "cell_type": "markdown",
   "id": "b0704b65",
   "metadata": {},
   "source": [
    "**We observe that the available values for `minimum fare` is $4931$ and for `maximum fare` is $31337$.**"
   ]
  },
  {
   "cell_type": "code",
   "execution_count": null,
   "id": "7dfe7632",
   "metadata": {},
   "outputs": [],
   "source": []
  },
  {
   "cell_type": "code",
   "execution_count": 88,
   "id": "371ac42f",
   "metadata": {},
   "outputs": [],
   "source": [
    "binwidth = int((max(temp_df['Fare'])-min(temp_df['Fare']))/4)"
   ]
  },
  {
   "cell_type": "code",
   "execution_count": 89,
   "id": "24d1983e",
   "metadata": {},
   "outputs": [
    {
     "data": {
      "text/plain": [
       "6601"
      ]
     },
     "execution_count": 89,
     "metadata": {},
     "output_type": "execute_result"
    }
   ],
   "source": [
    "binwidth"
   ]
  },
  {
   "cell_type": "markdown",
   "id": "ae22e0e6",
   "metadata": {},
   "source": [
    "**We will create 3 bins**"
   ]
  },
  {
   "cell_type": "code",
   "execution_count": 90,
   "id": "9f23adb3",
   "metadata": {},
   "outputs": [],
   "source": [
    "bins = range(min(temp_df['Fare']),max(temp_df['Fare']),binwidth)"
   ]
  },
  {
   "cell_type": "code",
   "execution_count": 91,
   "id": "e1a952f4",
   "metadata": {},
   "outputs": [
    {
     "data": {
      "text/plain": [
       "range(4931, 31337, 6601)"
      ]
     },
     "execution_count": 91,
     "metadata": {},
     "output_type": "execute_result"
    }
   ],
   "source": [
    "bins"
   ]
  },
  {
   "cell_type": "code",
   "execution_count": 92,
   "id": "eda01f27",
   "metadata": {},
   "outputs": [],
   "source": [
    "group_names = ['low','Medium','High','Very high']"
   ]
  },
  {
   "cell_type": "code",
   "execution_count": 93,
   "id": "7a3573bd",
   "metadata": {},
   "outputs": [
    {
     "data": {
      "text/plain": [
       "0        (4931, 11532]\n",
       "1        (4931, 11532]\n",
       "2        (4931, 11532]\n",
       "3        (4931, 11532]\n",
       "4        (4931, 11532]\n",
       "             ...      \n",
       "2727    (11532, 18133]\n",
       "2728    (11532, 18133]\n",
       "2729    (11532, 18133]\n",
       "2730    (11532, 18133]\n",
       "2731    (11532, 18133]\n",
       "Name: Fare, Length: 2732, dtype: category\n",
       "Categories (4, interval[int64, right]): [(4931, 11532] < (11532, 18133] < (18133, 24734] < (24734, 31335]]"
      ]
     },
     "execution_count": 93,
     "metadata": {},
     "output_type": "execute_result"
    }
   ],
   "source": [
    "pd.cut(temp_df['Fare'],bins)"
   ]
  },
  {
   "cell_type": "code",
   "execution_count": 94,
   "id": "f211fc0f",
   "metadata": {},
   "outputs": [],
   "source": [
    "df_fare_binned = pd.cut(temp_df['Fare'],bins,labels=group_names)"
   ]
  },
  {
   "cell_type": "code",
   "execution_count": 95,
   "id": "babd9ab0",
   "metadata": {},
   "outputs": [
    {
     "data": {
      "image/png": "[encoded data removed]",
      "text/plain": [
       "<Figure size 432x288 with 1 Axes>"
      ]
     },
     "metadata": {
      "needs_background": "light"
     },
     "output_type": "display_data"
    }
   ],
   "source": [
    "sn.countplot(df_fare_binned)\n",
    "plt.show()"
   ]
  },
  {
   "cell_type": "markdown",
   "id": "36945ce0",
   "metadata": {},
   "source": [
    "**We have successfully converted the datatype of `Fare` feature to `int64` type.**"
   ]
  },
  {
   "cell_type": "code",
   "execution_count": 96,
   "id": "b3cfe635",
   "metadata": {},
   "outputs": [
    {
     "data": {
      "text/html": [
       "<div>\n",
       "<style scoped>\n",
       "    .dataframe tbody tr th:only-of-type {\n",
       "        vertical-align: middle;\n",
       "    }\n",
       "\n",
       "    .dataframe tbody tr th {\n",
       "        vertical-align: top;\n",
       "    }\n",
       "\n",
       "    .dataframe thead th {\n",
       "        text-align: right;\n",
       "    }\n",
       "</style>\n",
       "<table border=\"1\" class=\"dataframe\">\n",
       "  <thead>\n",
       "    <tr style=\"text-align: right;\">\n",
       "      <th></th>\n",
       "      <th>Carrier</th>\n",
       "      <th>Travel Date</th>\n",
       "      <th>Fare</th>\n",
       "      <th>day_of_travel</th>\n",
       "      <th>Duration_in_hours</th>\n",
       "      <th>Depart_hours</th>\n",
       "      <th>Arrive_hours</th>\n",
       "      <th>stops</th>\n",
       "    </tr>\n",
       "  </thead>\n",
       "  <tbody>\n",
       "    <tr>\n",
       "      <th>0</th>\n",
       "      <td>Air Asia</td>\n",
       "      <td>10 Oct</td>\n",
       "      <td>5953</td>\n",
       "      <td>Wednesday</td>\n",
       "      <td>5</td>\n",
       "      <td>16</td>\n",
       "      <td>22</td>\n",
       "      <td>1</td>\n",
       "    </tr>\n",
       "    <tr>\n",
       "      <th>1</th>\n",
       "      <td>Air Asia</td>\n",
       "      <td>10 Oct</td>\n",
       "      <td>5953</td>\n",
       "      <td>Wednesday</td>\n",
       "      <td>6</td>\n",
       "      <td>5</td>\n",
       "      <td>11</td>\n",
       "      <td>1</td>\n",
       "    </tr>\n",
       "    <tr>\n",
       "      <th>2</th>\n",
       "      <td>Air Asia</td>\n",
       "      <td>10 Oct</td>\n",
       "      <td>5953</td>\n",
       "      <td>Wednesday</td>\n",
       "      <td>6</td>\n",
       "      <td>9</td>\n",
       "      <td>16</td>\n",
       "      <td>1</td>\n",
       "    </tr>\n",
       "    <tr>\n",
       "      <th>3</th>\n",
       "      <td>Air Asia</td>\n",
       "      <td>10 Oct</td>\n",
       "      <td>5953</td>\n",
       "      <td>Wednesday</td>\n",
       "      <td>11</td>\n",
       "      <td>18</td>\n",
       "      <td>6</td>\n",
       "      <td>1</td>\n",
       "    </tr>\n",
       "    <tr>\n",
       "      <th>4</th>\n",
       "      <td>Air Asia</td>\n",
       "      <td>10 Oct</td>\n",
       "      <td>5953</td>\n",
       "      <td>Wednesday</td>\n",
       "      <td>14</td>\n",
       "      <td>16</td>\n",
       "      <td>6</td>\n",
       "      <td>1</td>\n",
       "    </tr>\n",
       "    <tr>\n",
       "      <th>...</th>\n",
       "      <td>...</td>\n",
       "      <td>...</td>\n",
       "      <td>...</td>\n",
       "      <td>...</td>\n",
       "      <td>...</td>\n",
       "      <td>...</td>\n",
       "      <td>...</td>\n",
       "      <td>...</td>\n",
       "    </tr>\n",
       "    <tr>\n",
       "      <th>2727</th>\n",
       "      <td>Go First</td>\n",
       "      <td>29 Oct</td>\n",
       "      <td>12519</td>\n",
       "      <td>Monday</td>\n",
       "      <td>7</td>\n",
       "      <td>8</td>\n",
       "      <td>15</td>\n",
       "      <td>1</td>\n",
       "    </tr>\n",
       "    <tr>\n",
       "      <th>2728</th>\n",
       "      <td>Go First</td>\n",
       "      <td>29 Oct</td>\n",
       "      <td>12519</td>\n",
       "      <td>Monday</td>\n",
       "      <td>9</td>\n",
       "      <td>8</td>\n",
       "      <td>17</td>\n",
       "      <td>1</td>\n",
       "    </tr>\n",
       "    <tr>\n",
       "      <th>2729</th>\n",
       "      <td>IndiGo</td>\n",
       "      <td>29 Oct</td>\n",
       "      <td>12780</td>\n",
       "      <td>Monday</td>\n",
       "      <td>9</td>\n",
       "      <td>7</td>\n",
       "      <td>16</td>\n",
       "      <td>1</td>\n",
       "    </tr>\n",
       "    <tr>\n",
       "      <th>2730</th>\n",
       "      <td>Go First</td>\n",
       "      <td>29 Oct</td>\n",
       "      <td>12939</td>\n",
       "      <td>Monday</td>\n",
       "      <td>6</td>\n",
       "      <td>12</td>\n",
       "      <td>19</td>\n",
       "      <td>1</td>\n",
       "    </tr>\n",
       "    <tr>\n",
       "      <th>2731</th>\n",
       "      <td>Air India</td>\n",
       "      <td>29 Oct</td>\n",
       "      <td>13291</td>\n",
       "      <td>Monday</td>\n",
       "      <td>12</td>\n",
       "      <td>7</td>\n",
       "      <td>19</td>\n",
       "      <td>1</td>\n",
       "    </tr>\n",
       "  </tbody>\n",
       "</table>\n",
       "<p>2732 rows × 8 columns</p>\n",
       "</div>"
      ],
      "text/plain": [
       "        Carrier Travel Date   Fare day_of_travel  Duration_in_hours  \\\n",
       "0      Air Asia      10 Oct   5953     Wednesday                  5   \n",
       "1      Air Asia      10 Oct   5953     Wednesday                  6   \n",
       "2      Air Asia      10 Oct   5953     Wednesday                  6   \n",
       "3      Air Asia      10 Oct   5953     Wednesday                 11   \n",
       "4      Air Asia      10 Oct   5953     Wednesday                 14   \n",
       "...         ...         ...    ...           ...                ...   \n",
       "2727   Go First      29 Oct  12519        Monday                  7   \n",
       "2728   Go First      29 Oct  12519        Monday                  9   \n",
       "2729     IndiGo      29 Oct  12780        Monday                  9   \n",
       "2730   Go First      29 Oct  12939        Monday                  6   \n",
       "2731  Air India      29 Oct  13291        Monday                 12   \n",
       "\n",
       "      Depart_hours  Arrive_hours stops  \n",
       "0               16            22     1  \n",
       "1                5            11     1  \n",
       "2                9            16     1  \n",
       "3               18             6     1  \n",
       "4               16             6     1  \n",
       "...            ...           ...   ...  \n",
       "2727             8            15     1  \n",
       "2728             8            17     1  \n",
       "2729             7            16     1  \n",
       "2730            12            19     1  \n",
       "2731             7            19     1  \n",
       "\n",
       "[2732 rows x 8 columns]"
      ]
     },
     "execution_count": 96,
     "metadata": {},
     "output_type": "execute_result"
    }
   ],
   "source": [
    "temp_df"
   ]
  },
  {
   "cell_type": "markdown",
   "id": "6f6d44ad",
   "metadata": {},
   "source": [
    "### Bivariate Analysis"
   ]
  },
  {
   "cell_type": "code",
   "execution_count": 97,
   "id": "012fffb4",
   "metadata": {},
   "outputs": [
    {
     "data": {
      "text/plain": [
       "'Carrier'"
      ]
     },
     "execution_count": 97,
     "metadata": {},
     "output_type": "execute_result"
    }
   ],
   "source": [
    "list_cols[0]"
   ]
  },
  {
   "cell_type": "code",
   "execution_count": 98,
   "id": "742db481",
   "metadata": {},
   "outputs": [],
   "source": [
    "#bv1 -- bivariate1\n",
    "df_bv1 = temp_df[['Carrier','Fare']]"
   ]
  },
  {
   "cell_type": "code",
   "execution_count": 108,
   "id": "e601ec3c",
   "metadata": {},
   "outputs": [
    {
     "data": {
      "text/html": [
       "<div>\n",
       "<style scoped>\n",
       "    .dataframe tbody tr th:only-of-type {\n",
       "        vertical-align: middle;\n",
       "    }\n",
       "\n",
       "    .dataframe tbody tr th {\n",
       "        vertical-align: top;\n",
       "    }\n",
       "\n",
       "    .dataframe thead th {\n",
       "        text-align: right;\n",
       "    }\n",
       "</style>\n",
       "<table border=\"1\" class=\"dataframe\">\n",
       "  <thead>\n",
       "    <tr style=\"text-align: right;\">\n",
       "      <th></th>\n",
       "      <th>Fare</th>\n",
       "    </tr>\n",
       "    <tr>\n",
       "      <th>Carrier</th>\n",
       "      <th></th>\n",
       "    </tr>\n",
       "  </thead>\n",
       "  <tbody>\n",
       "    <tr>\n",
       "      <th>Air Asia</th>\n",
       "      <td>6355.471204</td>\n",
       "    </tr>\n",
       "    <tr>\n",
       "      <th>Air India</th>\n",
       "      <td>9107.722054</td>\n",
       "    </tr>\n",
       "    <tr>\n",
       "      <th>Go First</th>\n",
       "      <td>8584.866162</td>\n",
       "    </tr>\n",
       "    <tr>\n",
       "      <th>IndiGo</th>\n",
       "      <td>7062.218182</td>\n",
       "    </tr>\n",
       "    <tr>\n",
       "      <th>SpiceJet</th>\n",
       "      <td>7592.724638</td>\n",
       "    </tr>\n",
       "    <tr>\n",
       "      <th>Vistara</th>\n",
       "      <td>9369.360465</td>\n",
       "    </tr>\n",
       "  </tbody>\n",
       "</table>\n",
       "</div>"
      ],
      "text/plain": [
       "                  Fare\n",
       "Carrier               \n",
       "Air Asia   6355.471204\n",
       "Air India  9107.722054\n",
       "Go First   8584.866162\n",
       "IndiGo     7062.218182\n",
       "SpiceJet   7592.724638\n",
       "Vistara    9369.360465"
      ]
     },
     "execution_count": 108,
     "metadata": {},
     "output_type": "execute_result"
    }
   ],
   "source": [
    "df_grp = df_bv1.groupby('Carrier').mean()"
   ]
  },
  {
   "cell_type": "code",
   "execution_count": 125,
   "id": "7589a6a8",
   "metadata": {},
   "outputs": [
    {
     "data": {
      "image/png": "[encoded data removed]",
      "text/plain": [
       "<Figure size 432x288 with 1 Axes>"
      ]
     },
     "metadata": {
      "needs_background": "light"
     },
     "output_type": "display_data"
    }
   ],
   "source": [
    "df_grp.plot(kind='bar',title='Mean Fare comparison for Carriers',cmap='Accent')\n",
    "plt.show()"
   ]
  },
  {
   "cell_type": "markdown",
   "id": "e6b2ec7d",
   "metadata": {},
   "source": [
    "**We observe that `Air India`,`Vistara` and `GoFirst` carriers are having `high` Fare prices.**"
   ]
  },
  {
   "cell_type": "code",
   "execution_count": 128,
   "id": "ba9df6e6",
   "metadata": {},
   "outputs": [],
   "source": [
    "from scipy import stats"
   ]
  },
  {
   "cell_type": "code",
   "execution_count": null,
   "id": "55c18826",
   "metadata": {},
   "outputs": [],
   "source": [
    "anova_results_1 = stats.f_oneway(df_grp.get_group('Air Asia'))"
   ]
  },
  {
   "cell_type": "markdown",
   "id": "fb86bf6f",
   "metadata": {},
   "source": [
    "## Data Pre-processing"
   ]
  },
  {
   "cell_type": "code",
   "execution_count": 129,
   "id": "a80d9f4f",
   "metadata": {},
   "outputs": [],
   "source": [
    "from sklearn.model_selection import train_test_split"
   ]
  },
  {
   "cell_type": "code",
   "execution_count": 130,
   "id": "28f19537",
   "metadata": {},
   "outputs": [],
   "source": [
    "x = temp_df.drop('Fare',axis='columns')\n",
    "y = temp_df['Fare']"
   ]
  },
  {
   "cell_type": "code",
   "execution_count": 131,
   "id": "165f2a3e",
   "metadata": {},
   "outputs": [],
   "source": [
    "x_train,x_test,y_train,y_test = train_test_split(x,y,test_size=.33,random_state=42)    "
   ]
  },
  {
   "cell_type": "code",
   "execution_count": 132,
   "id": "8eae8ab7",
   "metadata": {},
   "outputs": [
    {
     "data": {
      "text/plain": [
       "(902, 7)"
      ]
     },
     "execution_count": 132,
     "metadata": {},
     "output_type": "execute_result"
    }
   ],
   "source": [
    "x_test.shape"
   ]
  },
  {
   "cell_type": "code",
   "execution_count": 134,
   "id": "6bfa62ec",
   "metadata": {},
   "outputs": [
    {
     "data": {
      "text/plain": [
       "(902,)"
      ]
     },
     "execution_count": 134,
     "metadata": {},
     "output_type": "execute_result"
    }
   ],
   "source": [
    "y_test.shape"
   ]
  },
  {
   "cell_type": "code",
   "execution_count": 135,
   "id": "613ea3b3",
   "metadata": {},
   "outputs": [
    {
     "name": "stdout",
     "output_type": "stream",
     "text": [
      "Numerical columns: ['Duration_in_hours', 'Depart_hours', 'Arrive_hours']\n"
     ]
    }
   ],
   "source": [
    "numerical_cols = []\n",
    "for col in x_train.columns:\n",
    "    if x_train[col].dtypes != 'object':\n",
    "        numerical_cols.append(col)\n",
    "print(\"Numerical columns: {}\".format(numerical_cols))"
   ]
  },
  {
   "cell_type": "code",
   "execution_count": 136,
   "id": "38ea250d",
   "metadata": {},
   "outputs": [
    {
     "data": {
      "image/png": "[encoded data removed]",
      "text/plain": [
       "<Figure size 432x288 with 1 Axes>"
      ]
     },
     "metadata": {
      "needs_background": "light"
     },
     "output_type": "display_data"
    },
    {
     "data": {
      "image/png": "[encoded data removed]",
      "text/plain": [
       "<Figure size 432x288 with 1 Axes>"
      ]
     },
     "metadata": {
      "needs_background": "light"
     },
     "output_type": "display_data"
    },
    {
     "data": {
      "image/png": "[encoded data removed]",
      "text/plain": [
       "<Figure size 432x288 with 1 Axes>"
      ]
     },
     "metadata": {
      "needs_background": "light"
     },
     "output_type": "display_data"
    }
   ],
   "source": [
    "for col in numerical_cols:\n",
    "    fig = plt.figure()\n",
    "    ax = fig.add_subplot(111)\n",
    "    ax.boxplot(x_train[col])\n",
    "    ax.set_xlabel(col)\n",
    "    plt.show()"
   ]
  },
  {
   "cell_type": "markdown",
   "id": "80b77413",
   "metadata": {},
   "source": [
    "**We observe no extreme values present in the numerical features of the dataset.**"
   ]
  },
  {
   "cell_type": "code",
   "execution_count": 141,
   "id": "a295790f",
   "metadata": {},
   "outputs": [
    {
     "data": {
      "image/png": "[encoded data removed]",
      "text/plain": [
       "<Figure size 432x288 with 1 Axes>"
      ]
     },
     "metadata": {
      "needs_background": "light"
     },
     "output_type": "display_data"
    },
    {
     "data": {
      "image/png": "[encoded data removed]",
      "text/plain": [
       "<Figure size 432x288 with 1 Axes>"
      ]
     },
     "metadata": {
      "needs_background": "light"
     },
     "output_type": "display_data"
    },
    {
     "data": {
      "image/png": "[encoded data removed]",
      "text/plain": [
       "<Figure size 432x288 with 1 Axes>"
      ]
     },
     "metadata": {
      "needs_background": "light"
     },
     "output_type": "display_data"
    }
   ],
   "source": [
    "for col in numerical_cols:\n",
    "    fig = plt.figure()\n",
    "    ax = fig.add_subplot(111)\n",
    "    ax = sn.distplot((x_train[col]))\n",
    "    ax.set_xlabel(col)\n",
    "    plt.show()"
   ]
  },
  {
   "cell_type": "code",
   "execution_count": 142,
   "id": "00bbc80b",
   "metadata": {},
   "outputs": [],
   "source": [
    "from sklearn.preprocessing import LabelEncoder\n",
    "le = LabelEncoder()"
   ]
  },
  {
   "cell_type": "code",
   "execution_count": 143,
   "id": "7d30c931",
   "metadata": {},
   "outputs": [
    {
     "data": {
      "text/plain": [
       "['Carrier', 'Travel Date', 'day_of_travel', 'stops']"
      ]
     },
     "execution_count": 143,
     "metadata": {},
     "output_type": "execute_result"
    }
   ],
   "source": [
    "cat_cols = []\n",
    "for col in x_train.columns:\n",
    "    if x_train[col].dtypes == 'object':\n",
    "        cat_cols.append(col)\n",
    "cat_cols"
   ]
  },
  {
   "cell_type": "code",
   "execution_count": 144,
   "id": "a04044c5",
   "metadata": {},
   "outputs": [
    {
     "data": {
      "text/html": [
       "<div>\n",
       "<style scoped>\n",
       "    .dataframe tbody tr th:only-of-type {\n",
       "        vertical-align: middle;\n",
       "    }\n",
       "\n",
       "    .dataframe tbody tr th {\n",
       "        vertical-align: top;\n",
       "    }\n",
       "\n",
       "    .dataframe thead th {\n",
       "        text-align: right;\n",
       "    }\n",
       "</style>\n",
       "<table border=\"1\" class=\"dataframe\">\n",
       "  <thead>\n",
       "    <tr style=\"text-align: right;\">\n",
       "      <th></th>\n",
       "      <th>Carrier</th>\n",
       "      <th>Travel Date</th>\n",
       "      <th>day_of_travel</th>\n",
       "      <th>Duration_in_hours</th>\n",
       "      <th>Depart_hours</th>\n",
       "      <th>Arrive_hours</th>\n",
       "      <th>stops</th>\n",
       "    </tr>\n",
       "  </thead>\n",
       "  <tbody>\n",
       "    <tr>\n",
       "      <th>2675</th>\n",
       "      <td>3</td>\n",
       "      <td>18</td>\n",
       "      <td>1</td>\n",
       "      <td>2</td>\n",
       "      <td>12</td>\n",
       "      <td>14</td>\n",
       "      <td>0</td>\n",
       "    </tr>\n",
       "    <tr>\n",
       "      <th>1213</th>\n",
       "      <td>5</td>\n",
       "      <td>8</td>\n",
       "      <td>0</td>\n",
       "      <td>20</td>\n",
       "      <td>17</td>\n",
       "      <td>13</td>\n",
       "      <td>1</td>\n",
       "    </tr>\n",
       "    <tr>\n",
       "      <th>1029</th>\n",
       "      <td>5</td>\n",
       "      <td>7</td>\n",
       "      <td>6</td>\n",
       "      <td>2</td>\n",
       "      <td>12</td>\n",
       "      <td>14</td>\n",
       "      <td>0</td>\n",
       "    </tr>\n",
       "    <tr>\n",
       "      <th>836</th>\n",
       "      <td>0</td>\n",
       "      <td>6</td>\n",
       "      <td>5</td>\n",
       "      <td>11</td>\n",
       "      <td>18</td>\n",
       "      <td>6</td>\n",
       "      <td>1</td>\n",
       "    </tr>\n",
       "    <tr>\n",
       "      <th>1289</th>\n",
       "      <td>4</td>\n",
       "      <td>9</td>\n",
       "      <td>2</td>\n",
       "      <td>2</td>\n",
       "      <td>10</td>\n",
       "      <td>12</td>\n",
       "      <td>0</td>\n",
       "    </tr>\n",
       "    <tr>\n",
       "      <th>...</th>\n",
       "      <td>...</td>\n",
       "      <td>...</td>\n",
       "      <td>...</td>\n",
       "      <td>...</td>\n",
       "      <td>...</td>\n",
       "      <td>...</td>\n",
       "      <td>...</td>\n",
       "    </tr>\n",
       "    <tr>\n",
       "      <th>1638</th>\n",
       "      <td>3</td>\n",
       "      <td>11</td>\n",
       "      <td>1</td>\n",
       "      <td>5</td>\n",
       "      <td>13</td>\n",
       "      <td>19</td>\n",
       "      <td>1</td>\n",
       "    </tr>\n",
       "    <tr>\n",
       "      <th>1095</th>\n",
       "      <td>5</td>\n",
       "      <td>7</td>\n",
       "      <td>6</td>\n",
       "      <td>26</td>\n",
       "      <td>11</td>\n",
       "      <td>13</td>\n",
       "      <td>1</td>\n",
       "    </tr>\n",
       "    <tr>\n",
       "      <th>1130</th>\n",
       "      <td>2</td>\n",
       "      <td>8</td>\n",
       "      <td>0</td>\n",
       "      <td>2</td>\n",
       "      <td>15</td>\n",
       "      <td>17</td>\n",
       "      <td>0</td>\n",
       "    </tr>\n",
       "    <tr>\n",
       "      <th>1294</th>\n",
       "      <td>5</td>\n",
       "      <td>9</td>\n",
       "      <td>2</td>\n",
       "      <td>2</td>\n",
       "      <td>21</td>\n",
       "      <td>23</td>\n",
       "      <td>0</td>\n",
       "    </tr>\n",
       "    <tr>\n",
       "      <th>860</th>\n",
       "      <td>5</td>\n",
       "      <td>6</td>\n",
       "      <td>5</td>\n",
       "      <td>2</td>\n",
       "      <td>9</td>\n",
       "      <td>11</td>\n",
       "      <td>0</td>\n",
       "    </tr>\n",
       "  </tbody>\n",
       "</table>\n",
       "<p>1830 rows × 7 columns</p>\n",
       "</div>"
      ],
      "text/plain": [
       "      Carrier  Travel Date  day_of_travel  Duration_in_hours  Depart_hours  \\\n",
       "2675        3           18              1                  2            12   \n",
       "1213        5            8              0                 20            17   \n",
       "1029        5            7              6                  2            12   \n",
       "836         0            6              5                 11            18   \n",
       "1289        4            9              2                  2            10   \n",
       "...       ...          ...            ...                ...           ...   \n",
       "1638        3           11              1                  5            13   \n",
       "1095        5            7              6                 26            11   \n",
       "1130        2            8              0                  2            15   \n",
       "1294        5            9              2                  2            21   \n",
       "860         5            6              5                  2             9   \n",
       "\n",
       "      Arrive_hours  stops  \n",
       "2675            14      0  \n",
       "1213            13      1  \n",
       "1029            14      0  \n",
       "836              6      1  \n",
       "1289            12      0  \n",
       "...            ...    ...  \n",
       "1638            19      1  \n",
       "1095            13      1  \n",
       "1130            17      0  \n",
       "1294            23      0  \n",
       "860             11      0  \n",
       "\n",
       "[1830 rows x 7 columns]"
      ]
     },
     "execution_count": 144,
     "metadata": {},
     "output_type": "execute_result"
    }
   ],
   "source": [
    "for col in cat_cols:\n",
    "    x_train[col] = le.fit_transform(x_train[col].astype(str))\n",
    "x_train"
   ]
  },
  {
   "cell_type": "code",
   "execution_count": 145,
   "id": "65a01d63",
   "metadata": {},
   "outputs": [],
   "source": [
    "from sklearn.preprocessing import StandardScaler\n",
    "s = StandardScaler()"
   ]
  },
  {
   "cell_type": "code",
   "execution_count": 146,
   "id": "8879f381",
   "metadata": {},
   "outputs": [],
   "source": [
    "for col in x_train.columns:\n",
    "    x_train[col] = s.fit_transform(x_train[col].values.reshape(-1,1))"
   ]
  },
  {
   "cell_type": "markdown",
   "id": "48f6a754",
   "metadata": {},
   "source": [
    "### Modelling"
   ]
  },
  {
   "cell_type": "code",
   "execution_count": 147,
   "id": "9b17fca0",
   "metadata": {},
   "outputs": [],
   "source": [
    "# for linear regression\n",
    "from sklearn.linear_model import LinearRegression\n",
    "# for metrics\n",
    "from sklearn.metrics import mean_squared_error,mean_absolute_error,r2_score"
   ]
  },
  {
   "cell_type": "code",
   "execution_count": 148,
   "id": "3220e7b8",
   "metadata": {},
   "outputs": [],
   "source": [
    "from sklearn.model_selection import cross_val_score"
   ]
  },
  {
   "cell_type": "markdown",
   "id": "05940e0b",
   "metadata": {},
   "source": [
    "#### cross validation scores for linear regressor"
   ]
  },
  {
   "cell_type": "code",
   "execution_count": 149,
   "id": "3f199113",
   "metadata": {},
   "outputs": [
    {
     "name": "stdout",
     "output_type": "stream",
     "text": [
      "\n",
      " The absolute mean score we got from 10-Fold CV: 0.2775523397394267\n"
     ]
    }
   ],
   "source": [
    "lr= LinearRegression()\n",
    "lr_cv = cross_val_score(lr, x_train, y_train, cv=10)\n",
    "\n",
    "print('\\n The absolute mean score we got from 10-Fold CV:',np.mean(lr_cv))"
   ]
  },
  {
   "cell_type": "markdown",
   "id": "b685812d",
   "metadata": {},
   "source": [
    "#### cross validation score for Decision Tree regressor"
   ]
  },
  {
   "cell_type": "code",
   "execution_count": 151,
   "id": "ce60a300",
   "metadata": {},
   "outputs": [
    {
     "name": "stdout",
     "output_type": "stream",
     "text": [
      "\n",
      " The absolute mean score we got from 10-Fold CV: 0.3890480788244316\n"
     ]
    }
   ],
   "source": [
    "from sklearn.tree import DecisionTreeRegressor\n",
    "from sklearn.model_selection import cross_val_score\n",
    "\n",
    "dtr = DecisionTreeRegressor()\n",
    "\n",
    "dtr_cv = cross_val_score(dtr,x_train,y_train,cv=10)\n",
    "\n",
    "print('\\n The absolute mean score we got from 10-Fold CV:',np.mean(dtr_cv))"
   ]
  },
  {
   "cell_type": "markdown",
   "id": "b1dc5da5",
   "metadata": {},
   "source": [
    "#### cross validation score for Random Forest Regressor"
   ]
  },
  {
   "cell_type": "code",
   "execution_count": 152,
   "id": "562d1ffd",
   "metadata": {},
   "outputs": [
    {
     "data": {
      "text/plain": [
       "RF CV Score     0.622176\n",
       "n estimator    49.000000\n",
       "dtype: float64"
      ]
     },
     "execution_count": 152,
     "metadata": {},
     "output_type": "execute_result"
    }
   ],
   "source": [
    "from sklearn.ensemble import RandomForestRegressor\n",
    "\n",
    "rfr_cross_val=[]\n",
    "rfr_n_estimators=[]\n",
    "\n",
    "for i in range(10,50):\n",
    "    rfr=RandomForestRegressor(n_estimators=i)\n",
    "    rfr_n_estimators.append(i)\n",
    "    rfr_cross_val.append(cross_val_score(rfr,x_train,y_train,cv=10).mean())\n",
    "    \n",
    "rf_cv=pd.DataFrame({})\n",
    "rf_cv[\"RF CV Score\"]=rfr_cross_val\n",
    "rf_cv['n estimator']=rfr_n_estimators\n",
    "\n",
    "rf_cv.max()"
   ]
  },
  {
   "cell_type": "code",
   "execution_count": 153,
   "id": "39703168",
   "metadata": {},
   "outputs": [],
   "source": [
    "results1=[]\n",
    "results1.clear()\n",
    "results1.append(lr_cv)\n",
    "results1.append(dtr_cv)\n",
    "results1.append(rf_cv['RF CV Score'])\n",
    "\n",
    "names1=[]\n",
    "names1.clear()\n",
    "names1.append(\"Linear Regression\")\n",
    "names1.append(\"Decision Tree Regressor\")\n",
    "names1.append(\"Random Forest Regressor\")"
   ]
  },
  {
   "cell_type": "code",
   "execution_count": 154,
   "id": "d6df1bb6",
   "metadata": {},
   "outputs": [
    {
     "data": {
      "image/png": "[encoded data removed]",
      "text/plain": [
       "<Figure size 1008x576 with 1 Axes>"
      ]
     },
     "metadata": {
      "needs_background": "light"
     },
     "output_type": "display_data"
    }
   ],
   "source": [
    "fig = plt.figure(figsize=(14,8))\n",
    "ax = fig.add_subplot(111)\n",
    "fig.suptitle('Algorithm Comparison')\n",
    "plt.boxplot(results1)\n",
    "ax.set_xticklabels(names1)\n",
    "plt.show()"
   ]
  },
  {
   "cell_type": "markdown",
   "id": "e7c4ad6d",
   "metadata": {},
   "source": [
    "**We will go ahead with Random Forest Regressor.**"
   ]
  },
  {
   "cell_type": "code",
   "execution_count": 155,
   "id": "4c5ed3e5",
   "metadata": {},
   "outputs": [
    {
     "name": "stdout",
     "output_type": "stream",
     "text": [
      "0.5986675305318363\n",
      "100\n",
      "{'n_estimators': 100}\n"
     ]
    }
   ],
   "source": [
    "from sklearn.model_selection import GridSearchCV\n",
    "\n",
    "model=RandomForestRegressor()\n",
    "\n",
    "param={'n_estimators':[10,50,100]}\n",
    "\n",
    "grid=GridSearchCV(estimator=model,param_grid=param)\n",
    "\n",
    "grid.fit(x_train,y_train)\n",
    "\n",
    "print(grid.best_score_)\n",
    "print(grid.best_estimator_.n_estimators)\n",
    "print(grid.best_params_)"
   ]
  },
  {
   "cell_type": "markdown",
   "id": "f21b9e02",
   "metadata": {},
   "source": [
    "### Testing"
   ]
  },
  {
   "cell_type": "code",
   "execution_count": 156,
   "id": "2545fcd9",
   "metadata": {},
   "outputs": [
    {
     "data": {
      "text/plain": [
       "RandomForestRegressor()"
      ]
     },
     "execution_count": 156,
     "metadata": {},
     "output_type": "execute_result"
    }
   ],
   "source": [
    "regressor = RandomForestRegressor(n_estimators=100)\n",
    "regressor.fit(x_train,y_train)"
   ]
  },
  {
   "cell_type": "code",
   "execution_count": null,
   "id": "716301e0",
   "metadata": {},
   "outputs": [],
   "source": []
  }
 ],
 "metadata": {
  "kernelspec": {
   "display_name": "Python 3 (ipykernel)",
   "language": "python",
   "name": "python3"
  },
  "language_info": {
   "codemirror_mode": {
    "name": "ipython",
    "version": 3
   },
   "file_extension": ".py",
   "mimetype": "text/x-python",
   "name": "python",
   "nbconvert_exporter": "python",
   "pygments_lexer": "ipython3",
   "version": "3.8.11"
  }
 },
 "nbformat": 4,
 "nbformat_minor": 5
}
